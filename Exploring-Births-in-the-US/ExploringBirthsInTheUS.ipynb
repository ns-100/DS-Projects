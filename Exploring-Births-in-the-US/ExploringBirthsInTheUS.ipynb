{
 "cells": [
  {
   "cell_type": "code",
   "execution_count": 10,
   "metadata": {},
   "outputs": [
    {
     "name": "stdout",
     "output_type": "stream",
     "text": [
      "['year,month,date_of_month,day_of_week,births', '1994,1,1,6,8096', '1994,1,2,7,7772', '1994,1,3,1,10142', '1994,1,4,2,11248', '1994,1,5,3,11053', '1994,1,6,4,11406', '1994,1,7,5,11251', '1994,1,8,6,8653', '1994,1,9,7,7910']\n"
     ]
    }
   ],
   "source": [
    "# Introduction To The Dataset\n",
    "import csv\n",
    "fileStr = open(\"US_births_1994-2003_CDC_NCHS.csv\", 'r',encoding='utf-8').read().split('\\n')\n",
    "\n",
    "print(fileStr[:10])"
   ]
  },
  {
   "cell_type": "code",
   "execution_count": 11,
   "metadata": {},
   "outputs": [
    {
     "data": {
      "text/plain": [
       "[[1994, 1, 1, 6, 8096],\n",
       " [1994, 1, 2, 7, 7772],\n",
       " [1994, 1, 3, 1, 10142],\n",
       " [1994, 1, 4, 2, 11248],\n",
       " [1994, 1, 5, 3, 11053],\n",
       " [1994, 1, 6, 4, 11406],\n",
       " [1994, 1, 7, 5, 11251],\n",
       " [1994, 1, 8, 6, 8653],\n",
       " [1994, 1, 9, 7, 7910],\n",
       " [1994, 1, 10, 1, 10498]]"
      ]
     },
     "execution_count": 11,
     "metadata": {},
     "output_type": "execute_result"
    }
   ],
   "source": [
    "# Converting Data Into A List Of Lists\n",
    "def read_csv(fileStr):\n",
    "    string_list = fileStr[1:]\n",
    "    final_list = []\n",
    "    for rec in string_list:# rec = '1994,1,1,6,8096'\n",
    "        int_fields=[]\n",
    "        string_fields = rec.split(',')# string_fields = ['1994','1','1','6','8096']\n",
    "        for val in string_fields:\n",
    "            int_fields.append(int(val))\n",
    "        final_list.append(int_fields)\n",
    "    return final_list\n",
    "\n",
    "cdc_list=read_csv(fileStr)\n",
    "cdc_list[:10]"
   ]
  },
  {
   "cell_type": "code",
   "execution_count": 12,
   "metadata": {},
   "outputs": [
    {
     "data": {
      "text/plain": [
       "{1: 3232517,\n",
       " 2: 3018140,\n",
       " 3: 3322069,\n",
       " 4: 3185314,\n",
       " 5: 3350907,\n",
       " 6: 3296530,\n",
       " 7: 3498783,\n",
       " 8: 3525858,\n",
       " 9: 3439698,\n",
       " 10: 3378814,\n",
       " 11: 3171647,\n",
       " 12: 3301860}"
      ]
     },
     "execution_count": 12,
     "metadata": {},
     "output_type": "execute_result"
    }
   ],
   "source": [
    "# Calculating Number Of Births Each Month\n",
    "def month_births(cdc_list):\n",
    "    births_per_month = {}\n",
    "    for l in cdc_list:\n",
    "        if l[1] in births_per_month:\n",
    "            births_per_month[l[1]]+=l[4]\n",
    "        else:\n",
    "            births_per_month[l[1]]=l[4]\n",
    "    return births_per_month\n",
    "\n",
    "cdc_month_births = month_births(cdc_list)\n",
    "cdc_month_births"
   ]
  },
  {
   "cell_type": "code",
   "execution_count": 5,
   "metadata": {},
   "outputs": [
    {
     "data": {
      "text/plain": [
       "{1: 5789166,\n",
       " 2: 6446196,\n",
       " 3: 6322855,\n",
       " 4: 6288429,\n",
       " 5: 6233657,\n",
       " 6: 4562111,\n",
       " 7: 4079723}"
      ]
     },
     "execution_count": 5,
     "metadata": {},
     "output_type": "execute_result"
    }
   ],
   "source": [
    "# Calculating Number Of Births Each Day Of Week\n",
    "def dow_births(cdc_list):\n",
    "    births_per_week = {}\n",
    "    for l in cdc_list:\n",
    "        if l[3] in births_per_week:\n",
    "            births_per_week[l[3]]+=l[4]\n",
    "        else:\n",
    "            births_per_week[l[3]]=l[4]\n",
    "    return births_per_week\n",
    "\n",
    "cdc_week_births = dow_births(cdc_list)\n",
    "cdc_week_births"
   ]
  },
  {
   "cell_type": "code",
   "execution_count": 19,
   "metadata": {},
   "outputs": [
    {
     "data": {
      "text/plain": [
       "{1: 5789166,\n",
       " 2: 6446196,\n",
       " 3: 6322855,\n",
       " 4: 6288429,\n",
       " 5: 6233657,\n",
       " 6: 4562111,\n",
       " 7: 4079723}"
      ]
     },
     "execution_count": 19,
     "metadata": {},
     "output_type": "execute_result"
    }
   ],
   "source": [
    "# Creating A More General Function\n",
    "def calc_counts(cdc_list,col):\n",
    "    births = {}\n",
    "    for l in cdc_list:\n",
    "        if l[col] in births:\n",
    "            births[l[col]]+=l[4]\n",
    "        else:\n",
    "            births[l[col]]=l[4]\n",
    "    return births\n",
    "\n",
    "cdc_year_births = calc_counts(cdc_list,0)\n",
    "cdc_month_births = calc_counts(cdc_list,1)\n",
    "cdc_dom_births = calc_counts(cdc_list,2)\n",
    "cdc_dow_births = calc_counts(cdc_list,3)\n",
    "cdc_dow_births"
   ]
  },
  {
   "cell_type": "code",
   "execution_count": 17,
   "metadata": {},
   "outputs": [
    {
     "name": "stdout",
     "output_type": "stream",
     "text": [
      "min value for  2  is  3018140\n",
      "max value for  8  is  3525858\n"
     ]
    }
   ],
   "source": [
    "# Next Steps\n",
    "# Write a function that can calculate the min and max values for any dictionary that's passed in.\n",
    "def calc_min_max(cdc_dict):\n",
    "    min_k = 0\n",
    "    min_v = cdc_dict[list(cdc_dict.keys())[0]]\n",
    "    max_k = 0\n",
    "    max_v = cdc_dict[list(cdc_dict.keys())[0]]\n",
    "    for k,v in cdc_dict.items():\n",
    "        if cdc_dict[k] < min_v:\n",
    "            min_v = v\n",
    "            min_k = k\n",
    "        if cdc_dict[k] > max_v:\n",
    "            max_v = v\n",
    "            max_k = k\n",
    "    print(\"min value for \",min_k,\" is \", min_v)\n",
    "    print(\"max value for \",max_k,\" is \", max_v)\n",
    "\n",
    "calc_min_max(cdc_month_births)"
   ]
  },
  {
   "cell_type": "code",
   "execution_count": 27,
   "metadata": {},
   "outputs": [
    {
     "name": "stdout",
     "output_type": "stream",
     "text": [
      "births in 1994 is  474732\n",
      "births in 1995 decreased by 15152\n",
      "births in 1996 decreased by 3319\n",
      "births in 1997 decreased by 5421\n",
      "births in 1998 increased by 2936\n",
      "births in 1999 decreased by 3791\n",
      "births in 2000 increased by 19809\n",
      "births in 2001 decreased by 15866\n",
      "births in 2002 decreased by 8158\n",
      "births in 2003 increased by 1675\n"
     ]
    },
    {
     "data": {
      "text/plain": [
       "{1994: 474732,\n",
       " 1995: 459580,\n",
       " 1996: 456261,\n",
       " 1997: 450840,\n",
       " 1998: 453776,\n",
       " 1999: 449985,\n",
       " 2000: 469794,\n",
       " 2001: 453928,\n",
       " 2002: 445770,\n",
       " 2003: 447445}"
      ]
     },
     "execution_count": 27,
     "metadata": {},
     "output_type": "execute_result"
    }
   ],
   "source": [
    "# Write a function that extracts the same values across years and calculates the differences between consecutive values to \n",
    "# show if number of births is increasing or decreasing.\n",
    "# For example, how did the number of births on Saturday change each year between 1994 and 2003?\n",
    "def calc_yr_sat_counts(cdc_list,col):\n",
    "    births = {}\n",
    "    for l in cdc_list:\n",
    "        if l[3]==6:\n",
    "            if l[col] in births:\n",
    "                births[l[col]]+=l[4]\n",
    "            else:\n",
    "                births[l[col]]=l[4]\n",
    "    return births\n",
    "\n",
    "cdc_yr_sat_counts = calc_yr_sat_counts(cdc_list,0)\n",
    "cdc_yr_sat_counts\n",
    "\n",
    "def chg_in_sat_birth(cdc_yr_sat_counts):\n",
    "    prev_year = 0\n",
    "    prev_births = 0\n",
    "    curr_year = 0\n",
    "    curr_births = 0\n",
    "    for k,v in cdc_yr_sat_counts.items():\n",
    "        curr_year = k\n",
    "        curr_births = v\n",
    "        if prev_births == 0:\n",
    "            print(\"births in\", curr_year, \"is\", curr_births)\n",
    "        elif curr_births > prev_births:\n",
    "            print(\"births in\", curr_year, \"increased by\", curr_births - prev_births)\n",
    "        elif curr_births < prev_births:\n",
    "            print(\"births in\", curr_year, \"decreased by\", prev_births - curr_births)\n",
    "        elif curr_births == prev_births:\n",
    "            print(\"no change in births for\", curr_year, \"from previous year\")\n",
    "        prev_year = curr_year\n",
    "        prev_births = curr_births\n",
    "        \n",
    "chg_in_sat_birth(calc_yr_sat_counts(cdc_list,0))    "
   ]
  },
  {
   "cell_type": "code",
   "execution_count": 14,
   "metadata": {},
   "outputs": [],
   "source": [
    "# Find a way to combine the CDC data with the SSA data, which you can find here. Specifically, brainstorm ways to deal with \n",
    "# the overlapping time periods in the datasets.\n",
    "fileStrCDC = open(\"US_births_1994-2003_CDC_NCHS.csv\", 'r',encoding='utf-8').read().split('\\n')\n",
    "fileStrSSA = open(\"US_births_2000-2014_SSA.csv\", 'r',encoding='utf-8').read().split('\\n')\n",
    "cdc_ssa =  open(\"US_births_1994_2014.csv\", \"w\")\n",
    "\n",
    "# solution: merge data sets and average the overlapping time periods 2000 to 2003\n",
    "cdc_ssa.write(fileStrCDC[0]+ '\\n')\n",
    "fileStrCDC = fileStrCDC[1:]\n",
    "fileStrSSA = fileStrSSA[1:]\n",
    "\n",
    "#write all unique cdc recs to cdc_ssa\n",
    "#average births for overlapping time periods\n",
    "for line1 in fileStrCDC:   \n",
    "    list1 = line1.split(',')# ['1994','1','1','6','8096']\n",
    "    f = False\n",
    "    for line2 in fileStrSSA:\n",
    "        list2 = line2.split(',')\n",
    "        if list1[0] == list2[0] and list2[1] == list1[1] and list2[2] == list1[2] and list2[3] == list1[3]:\n",
    "            list1[4] = str((int(list2[4])+int(list1[4]))//2)\n",
    "            cdc_ssa.write(','.join(list1)+ '\\n')\n",
    "            f = True\n",
    "            break\n",
    "    if not f:\n",
    "        cdc_ssa.write(','.join(list1)+ '\\n')    \n",
    "\n",
    "#write all unique ssa recs to cdc_ssa\n",
    "for line2 in fileStrSSA:   \n",
    "    list2 = line2.split(',')\n",
    "    f = False\n",
    "    for line1 in fileStrCDC:\n",
    "        list1 = line1.split(',')\n",
    "        if list1[0] == list2[0] and list2[1] == list1[1] and list2[2] == list1[2] and list2[3] == list1[3]:\n",
    "            f = True\n",
    "            break\n",
    "    if not f:\n",
    "        cdc_ssa.write(','.join(list2)+ '\\n')        \n",
    "        \n",
    "cdc_ssa.close()     "
   ]
  },
  {
   "cell_type": "markdown",
   "metadata": {},
   "source": [
    "# Using Pandas"
   ]
  },
  {
   "cell_type": "code",
   "execution_count": 16,
   "metadata": {},
   "outputs": [
    {
     "data": {
      "text/plain": [
       "Index(['year', 'month', 'date_of_month', 'day_of_week', 'births'], dtype='object')"
      ]
     },
     "execution_count": 16,
     "metadata": {},
     "output_type": "execute_result"
    }
   ],
   "source": [
    "import pandas as pd\n",
    "\n",
    "df = pd.read_csv('US_births_1994-2003_CDC_NCHS.csv')\n",
    "df.columns"
   ]
  },
  {
   "cell_type": "code",
   "execution_count": 20,
   "metadata": {},
   "outputs": [
    {
     "data": {
      "text/plain": [
       "month\n",
       "1     3232517\n",
       "2     3018140\n",
       "3     3322069\n",
       "4     3185314\n",
       "5     3350907\n",
       "6     3296530\n",
       "7     3498783\n",
       "8     3525858\n",
       "9     3439698\n",
       "10    3378814\n",
       "11    3171647\n",
       "12    3301860\n",
       "Name: births, dtype: int64"
      ]
     },
     "execution_count": 20,
     "metadata": {},
     "output_type": "execute_result"
    }
   ],
   "source": [
    "# Calculating Number Of Births Each Month using groupby\n",
    "df.groupby('month')['births'].sum()"
   ]
  },
  {
   "cell_type": "code",
   "execution_count": 21,
   "metadata": {},
   "outputs": [
    {
     "data": {
      "text/plain": [
       "day_of_week\n",
       "1    5789166\n",
       "2    6446196\n",
       "3    6322855\n",
       "4    6288429\n",
       "5    6233657\n",
       "6    4562111\n",
       "7    4079723\n",
       "Name: births, dtype: int64"
      ]
     },
     "execution_count": 21,
     "metadata": {},
     "output_type": "execute_result"
    }
   ],
   "source": [
    "# Calculating Number Of Births Each Day Of Week\n",
    "df.groupby('day_of_week')['births'].sum()"
   ]
  },
  {
   "cell_type": "code",
   "execution_count": 22,
   "metadata": {},
   "outputs": [
    {
     "data": {
      "text/plain": [
       "year\n",
       "1994    3952767\n",
       "1995    3899589\n",
       "1996    3891494\n",
       "1997    3880894\n",
       "1998    3941553\n",
       "1999    3959417\n",
       "2000    4058814\n",
       "2001    4025933\n",
       "2002    4021726\n",
       "2003    4089950\n",
       "Name: births, dtype: int64"
      ]
     },
     "execution_count": 22,
     "metadata": {},
     "output_type": "execute_result"
    }
   ],
   "source": [
    "# Calculating Number Of Births Each year\n",
    "df.groupby('year')['births'].sum()"
   ]
  },
  {
   "cell_type": "code",
   "execution_count": 37,
   "metadata": {},
   "outputs": [
    {
     "data": {
      "text/plain": [
       "year             int64\n",
       "month            int64\n",
       "date_of_month    int64\n",
       "day_of_week      int64\n",
       "births           int64\n",
       "dtype: object"
      ]
     },
     "execution_count": 37,
     "metadata": {},
     "output_type": "execute_result"
    }
   ],
   "source": [
    "df = pd.read_csv('US_births_1994_2014.csv')\n",
    "df.dtypes"
   ]
  },
  {
   "cell_type": "code",
   "execution_count": 55,
   "metadata": {},
   "outputs": [
    {
     "data": {
      "text/plain": [
       "<matplotlib.axes._subplots.AxesSubplot at 0x21eaada1748>"
      ]
     },
     "execution_count": 55,
     "metadata": {},
     "output_type": "execute_result"
    },
    {
     "data": {
      "image/png": "[encoded data removed]",
      "text/plain": [
       "<Figure size 432x288 with 1 Axes>"
      ]
     },
     "metadata": {},
     "output_type": "display_data"
    }
   ],
   "source": [
    "# plot births \n",
    "import matplotlib.pyplot as plt\n",
    "\n",
    "%matplotlib inline\n",
    "\n",
    "df.groupby('year')[['births']].sum().plot()\n",
    "# Note: this produces a series whereas the above produces as df\n",
    "#df.groupby('year')['births']"
   ]
  },
  {
   "cell_type": "code",
   "execution_count": 59,
   "metadata": {},
   "outputs": [
    {
     "data": {
      "text/plain": [
       "<matplotlib.axes._subplots.AxesSubplot at 0x21eaae5a278>"
      ]
     },
     "execution_count": 59,
     "metadata": {},
     "output_type": "execute_result"
    },
    {
     "data": {
      "image/png": "[encoded data removed]",
      "text/plain": [
       "<Figure size 432x288 with 1 Axes>"
      ]
     },
     "metadata": {},
     "output_type": "display_data"
    }
   ],
   "source": [
    "import numpy as np\n",
    "\n",
    "pd.pivot_table(df,index=[\"month\"],values=[\"births\"],aggfunc=np.sum).plot()"
   ]
  }
 ],
 "metadata": {
  "kernelspec": {
   "display_name": "Python 3",
   "language": "python",
   "name": "python3"
  },
  "language_info": {
   "codemirror_mode": {
    "name": "ipython",
    "version": 3
   },
   "file_extension": ".py",
   "mimetype": "text/x-python",
   "name": "python",
   "nbconvert_exporter": "python",
   "pygments_lexer": "ipython3",
   "version": "3.6.5"
  }
 },
 "nbformat": 4,
 "nbformat_minor": 2
}
