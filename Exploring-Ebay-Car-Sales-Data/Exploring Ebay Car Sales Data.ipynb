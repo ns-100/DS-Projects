{
 "cells": [
  {
   "cell_type": "markdown",
   "metadata": {},
   "source": [
    "In this project, we'll work with a dataset of used cars from **eBay Kleinanzeigen, a classifieds section of the German eBay website.**\n",
    "\n",
    "The dataset was originally scraped and uploaded to [Kaggle](https://www.kaggle.com/orgesleka/used-cars-database/data):\n",
    "\n",
    "A few modifications were made to the original dataset \n",
    "The data dictionary provided with data is as follows:\n",
    "\n",
    "dateCrawled - When this ad was first crawled. All field-values are taken from this date.  \n",
    "name - Name of the car.  \n",
    "seller - Whether the seller is private or a dealer.  \n",
    "offerType - The type of listing.  \n",
    "price - The price on the ad to sell the car.  \n",
    "abtest - Whether the listing is included in an A/B test.  \n",
    "vehicleType - The vehicle Type.  \n",
    "yearOfRegistration - The year in which which year the car was first registered.  \n",
    "gearbox - The transmission type.  \n",
    "powerPS - The power of the car in PS.  \n",
    "model - The car model name.  \n",
    "kilometer - How many kilometers the car has driven.  \n",
    "monthOfRegistration - The month in which which year the car was first registered.  \n",
    "fuelType - What type of fuel the car uses.  \n",
    "brand - The brand of the car.  \n",
    "notRepairedDamage - If the car has a damage which is not yet repaired.  \n",
    "dateCreated - The date on which the eBay listing was created.  \n",
    "nrOfPictures - The number of pictures in the ad.  \n",
    "postalCode - The postal code for the location of the vehicle.  \n",
    "lastSeenOnline - When the crawler saw this ad last online.  "
   ]
  },
  {
   "cell_type": "code",
   "execution_count": 64,
   "metadata": {},
   "outputs": [],
   "source": [
    "import pandas as pd\n",
    "\n",
    "autos = pd.read_csv('autos.csv', encoding='Latin-1')"
   ]
  },
  {
   "cell_type": "code",
   "execution_count": 65,
   "metadata": {},
   "outputs": [
    {
     "data": {
      "text/html": [
       "<div>\n",
       "<style scoped>\n",
       "    .dataframe tbody tr th:only-of-type {\n",
       "        vertical-align: middle;\n",
       "    }\n",
       "\n",
       "    .dataframe tbody tr th {\n",
       "        vertical-align: top;\n",
       "    }\n",
       "\n",
       "    .dataframe thead th {\n",
       "        text-align: right;\n",
       "    }\n",
       "</style>\n",
       "<table border=\"1\" class=\"dataframe\">\n",
       "  <thead>\n",
       "    <tr style=\"text-align: right;\">\n",
       "      <th></th>\n",
       "      <th>dateCrawled</th>\n",
       "      <th>name</th>\n",
       "      <th>seller</th>\n",
       "      <th>offerType</th>\n",
       "      <th>price</th>\n",
       "      <th>abtest</th>\n",
       "      <th>vehicleType</th>\n",
       "      <th>yearOfRegistration</th>\n",
       "      <th>gearbox</th>\n",
       "      <th>powerPS</th>\n",
       "      <th>model</th>\n",
       "      <th>odometer</th>\n",
       "      <th>monthOfRegistration</th>\n",
       "      <th>fuelType</th>\n",
       "      <th>brand</th>\n",
       "      <th>notRepairedDamage</th>\n",
       "      <th>dateCreated</th>\n",
       "      <th>nrOfPictures</th>\n",
       "      <th>postalCode</th>\n",
       "      <th>lastSeen</th>\n",
       "    </tr>\n",
       "  </thead>\n",
       "  <tbody>\n",
       "    <tr>\n",
       "      <th>0</th>\n",
       "      <td>2016-03-26 17:47:46</td>\n",
       "      <td>Peugeot_807_160_NAVTECH_ON_BOARD</td>\n",
       "      <td>privat</td>\n",
       "      <td>Angebot</td>\n",
       "      <td>$5,000</td>\n",
       "      <td>control</td>\n",
       "      <td>bus</td>\n",
       "      <td>2004</td>\n",
       "      <td>manuell</td>\n",
       "      <td>158</td>\n",
       "      <td>andere</td>\n",
       "      <td>150,000km</td>\n",
       "      <td>3</td>\n",
       "      <td>lpg</td>\n",
       "      <td>peugeot</td>\n",
       "      <td>nein</td>\n",
       "      <td>2016-03-26 00:00:00</td>\n",
       "      <td>0</td>\n",
       "      <td>79588</td>\n",
       "      <td>2016-04-06 06:45:54</td>\n",
       "    </tr>\n",
       "    <tr>\n",
       "      <th>1</th>\n",
       "      <td>2016-04-04 13:38:56</td>\n",
       "      <td>BMW_740i_4_4_Liter_HAMANN_UMBAU_Mega_Optik</td>\n",
       "      <td>privat</td>\n",
       "      <td>Angebot</td>\n",
       "      <td>$8,500</td>\n",
       "      <td>control</td>\n",
       "      <td>limousine</td>\n",
       "      <td>1997</td>\n",
       "      <td>automatik</td>\n",
       "      <td>286</td>\n",
       "      <td>7er</td>\n",
       "      <td>150,000km</td>\n",
       "      <td>6</td>\n",
       "      <td>benzin</td>\n",
       "      <td>bmw</td>\n",
       "      <td>nein</td>\n",
       "      <td>2016-04-04 00:00:00</td>\n",
       "      <td>0</td>\n",
       "      <td>71034</td>\n",
       "      <td>2016-04-06 14:45:08</td>\n",
       "    </tr>\n",
       "    <tr>\n",
       "      <th>2</th>\n",
       "      <td>2016-03-26 18:57:24</td>\n",
       "      <td>Volkswagen_Golf_1.6_United</td>\n",
       "      <td>privat</td>\n",
       "      <td>Angebot</td>\n",
       "      <td>$8,990</td>\n",
       "      <td>test</td>\n",
       "      <td>limousine</td>\n",
       "      <td>2009</td>\n",
       "      <td>manuell</td>\n",
       "      <td>102</td>\n",
       "      <td>golf</td>\n",
       "      <td>70,000km</td>\n",
       "      <td>7</td>\n",
       "      <td>benzin</td>\n",
       "      <td>volkswagen</td>\n",
       "      <td>nein</td>\n",
       "      <td>2016-03-26 00:00:00</td>\n",
       "      <td>0</td>\n",
       "      <td>35394</td>\n",
       "      <td>2016-04-06 20:15:37</td>\n",
       "    </tr>\n",
       "    <tr>\n",
       "      <th>3</th>\n",
       "      <td>2016-03-12 16:58:10</td>\n",
       "      <td>Smart_smart_fortwo_coupe_softouch/F1/Klima/Pan...</td>\n",
       "      <td>privat</td>\n",
       "      <td>Angebot</td>\n",
       "      <td>$4,350</td>\n",
       "      <td>control</td>\n",
       "      <td>kleinwagen</td>\n",
       "      <td>2007</td>\n",
       "      <td>automatik</td>\n",
       "      <td>71</td>\n",
       "      <td>fortwo</td>\n",
       "      <td>70,000km</td>\n",
       "      <td>6</td>\n",
       "      <td>benzin</td>\n",
       "      <td>smart</td>\n",
       "      <td>nein</td>\n",
       "      <td>2016-03-12 00:00:00</td>\n",
       "      <td>0</td>\n",
       "      <td>33729</td>\n",
       "      <td>2016-03-15 03:16:28</td>\n",
       "    </tr>\n",
       "    <tr>\n",
       "      <th>4</th>\n",
       "      <td>2016-04-01 14:38:50</td>\n",
       "      <td>Ford_Focus_1_6_Benzin_TÜV_neu_ist_sehr_gepfleg...</td>\n",
       "      <td>privat</td>\n",
       "      <td>Angebot</td>\n",
       "      <td>$1,350</td>\n",
       "      <td>test</td>\n",
       "      <td>kombi</td>\n",
       "      <td>2003</td>\n",
       "      <td>manuell</td>\n",
       "      <td>0</td>\n",
       "      <td>focus</td>\n",
       "      <td>150,000km</td>\n",
       "      <td>7</td>\n",
       "      <td>benzin</td>\n",
       "      <td>ford</td>\n",
       "      <td>nein</td>\n",
       "      <td>2016-04-01 00:00:00</td>\n",
       "      <td>0</td>\n",
       "      <td>39218</td>\n",
       "      <td>2016-04-01 14:38:50</td>\n",
       "    </tr>\n",
       "  </tbody>\n",
       "</table>\n",
       "</div>"
      ],
      "text/plain": [
       "           dateCrawled                                               name  \\\n",
       "0  2016-03-26 17:47:46                   Peugeot_807_160_NAVTECH_ON_BOARD   \n",
       "1  2016-04-04 13:38:56         BMW_740i_4_4_Liter_HAMANN_UMBAU_Mega_Optik   \n",
       "2  2016-03-26 18:57:24                         Volkswagen_Golf_1.6_United   \n",
       "3  2016-03-12 16:58:10  Smart_smart_fortwo_coupe_softouch/F1/Klima/Pan...   \n",
       "4  2016-04-01 14:38:50  Ford_Focus_1_6_Benzin_TÜV_neu_ist_sehr_gepfleg...   \n",
       "\n",
       "   seller offerType   price   abtest vehicleType  yearOfRegistration  \\\n",
       "0  privat   Angebot  $5,000  control         bus                2004   \n",
       "1  privat   Angebot  $8,500  control   limousine                1997   \n",
       "2  privat   Angebot  $8,990     test   limousine                2009   \n",
       "3  privat   Angebot  $4,350  control  kleinwagen                2007   \n",
       "4  privat   Angebot  $1,350     test       kombi                2003   \n",
       "\n",
       "     gearbox  powerPS   model   odometer  monthOfRegistration fuelType  \\\n",
       "0    manuell      158  andere  150,000km                    3      lpg   \n",
       "1  automatik      286     7er  150,000km                    6   benzin   \n",
       "2    manuell      102    golf   70,000km                    7   benzin   \n",
       "3  automatik       71  fortwo   70,000km                    6   benzin   \n",
       "4    manuell        0   focus  150,000km                    7   benzin   \n",
       "\n",
       "        brand notRepairedDamage          dateCreated  nrOfPictures  \\\n",
       "0     peugeot              nein  2016-03-26 00:00:00             0   \n",
       "1         bmw              nein  2016-04-04 00:00:00             0   \n",
       "2  volkswagen              nein  2016-03-26 00:00:00             0   \n",
       "3       smart              nein  2016-03-12 00:00:00             0   \n",
       "4        ford              nein  2016-04-01 00:00:00             0   \n",
       "\n",
       "   postalCode             lastSeen  \n",
       "0       79588  2016-04-06 06:45:54  \n",
       "1       71034  2016-04-06 14:45:08  \n",
       "2       35394  2016-04-06 20:15:37  \n",
       "3       33729  2016-03-15 03:16:28  \n",
       "4       39218  2016-04-01 14:38:50  "
      ]
     },
     "execution_count": 65,
     "metadata": {},
     "output_type": "execute_result"
    }
   ],
   "source": [
    "autos.head()"
   ]
  },
  {
   "cell_type": "code",
   "execution_count": 66,
   "metadata": {},
   "outputs": [
    {
     "data": {
      "text/html": [
       "<div>\n",
       "<style scoped>\n",
       "    .dataframe tbody tr th:only-of-type {\n",
       "        vertical-align: middle;\n",
       "    }\n",
       "\n",
       "    .dataframe tbody tr th {\n",
       "        vertical-align: top;\n",
       "    }\n",
       "\n",
       "    .dataframe thead th {\n",
       "        text-align: right;\n",
       "    }\n",
       "</style>\n",
       "<table border=\"1\" class=\"dataframe\">\n",
       "  <thead>\n",
       "    <tr style=\"text-align: right;\">\n",
       "      <th></th>\n",
       "      <th>dateCrawled</th>\n",
       "      <th>name</th>\n",
       "      <th>seller</th>\n",
       "      <th>offerType</th>\n",
       "      <th>price</th>\n",
       "      <th>abtest</th>\n",
       "      <th>vehicleType</th>\n",
       "      <th>yearOfRegistration</th>\n",
       "      <th>gearbox</th>\n",
       "      <th>powerPS</th>\n",
       "      <th>model</th>\n",
       "      <th>odometer</th>\n",
       "      <th>monthOfRegistration</th>\n",
       "      <th>fuelType</th>\n",
       "      <th>brand</th>\n",
       "      <th>notRepairedDamage</th>\n",
       "      <th>dateCreated</th>\n",
       "      <th>nrOfPictures</th>\n",
       "      <th>postalCode</th>\n",
       "      <th>lastSeen</th>\n",
       "    </tr>\n",
       "  </thead>\n",
       "  <tbody>\n",
       "    <tr>\n",
       "      <th>49995</th>\n",
       "      <td>2016-03-27 14:38:19</td>\n",
       "      <td>Audi_Q5_3.0_TDI_qu._S_tr.__Navi__Panorama__Xenon</td>\n",
       "      <td>privat</td>\n",
       "      <td>Angebot</td>\n",
       "      <td>$24,900</td>\n",
       "      <td>control</td>\n",
       "      <td>limousine</td>\n",
       "      <td>2011</td>\n",
       "      <td>automatik</td>\n",
       "      <td>239</td>\n",
       "      <td>q5</td>\n",
       "      <td>100,000km</td>\n",
       "      <td>1</td>\n",
       "      <td>diesel</td>\n",
       "      <td>audi</td>\n",
       "      <td>nein</td>\n",
       "      <td>2016-03-27 00:00:00</td>\n",
       "      <td>0</td>\n",
       "      <td>82131</td>\n",
       "      <td>2016-04-01 13:47:40</td>\n",
       "    </tr>\n",
       "    <tr>\n",
       "      <th>49996</th>\n",
       "      <td>2016-03-28 10:50:25</td>\n",
       "      <td>Opel_Astra_F_Cabrio_Bertone_Edition___TÜV_neu+...</td>\n",
       "      <td>privat</td>\n",
       "      <td>Angebot</td>\n",
       "      <td>$1,980</td>\n",
       "      <td>control</td>\n",
       "      <td>cabrio</td>\n",
       "      <td>1996</td>\n",
       "      <td>manuell</td>\n",
       "      <td>75</td>\n",
       "      <td>astra</td>\n",
       "      <td>150,000km</td>\n",
       "      <td>5</td>\n",
       "      <td>benzin</td>\n",
       "      <td>opel</td>\n",
       "      <td>nein</td>\n",
       "      <td>2016-03-28 00:00:00</td>\n",
       "      <td>0</td>\n",
       "      <td>44807</td>\n",
       "      <td>2016-04-02 14:18:02</td>\n",
       "    </tr>\n",
       "    <tr>\n",
       "      <th>49997</th>\n",
       "      <td>2016-04-02 14:44:48</td>\n",
       "      <td>Fiat_500_C_1.2_Dualogic_Lounge</td>\n",
       "      <td>privat</td>\n",
       "      <td>Angebot</td>\n",
       "      <td>$13,200</td>\n",
       "      <td>test</td>\n",
       "      <td>cabrio</td>\n",
       "      <td>2014</td>\n",
       "      <td>automatik</td>\n",
       "      <td>69</td>\n",
       "      <td>500</td>\n",
       "      <td>5,000km</td>\n",
       "      <td>11</td>\n",
       "      <td>benzin</td>\n",
       "      <td>fiat</td>\n",
       "      <td>nein</td>\n",
       "      <td>2016-04-02 00:00:00</td>\n",
       "      <td>0</td>\n",
       "      <td>73430</td>\n",
       "      <td>2016-04-04 11:47:27</td>\n",
       "    </tr>\n",
       "    <tr>\n",
       "      <th>49998</th>\n",
       "      <td>2016-03-08 19:25:42</td>\n",
       "      <td>Audi_A3_2.0_TDI_Sportback_Ambition</td>\n",
       "      <td>privat</td>\n",
       "      <td>Angebot</td>\n",
       "      <td>$22,900</td>\n",
       "      <td>control</td>\n",
       "      <td>kombi</td>\n",
       "      <td>2013</td>\n",
       "      <td>manuell</td>\n",
       "      <td>150</td>\n",
       "      <td>a3</td>\n",
       "      <td>40,000km</td>\n",
       "      <td>11</td>\n",
       "      <td>diesel</td>\n",
       "      <td>audi</td>\n",
       "      <td>nein</td>\n",
       "      <td>2016-03-08 00:00:00</td>\n",
       "      <td>0</td>\n",
       "      <td>35683</td>\n",
       "      <td>2016-04-05 16:45:07</td>\n",
       "    </tr>\n",
       "    <tr>\n",
       "      <th>49999</th>\n",
       "      <td>2016-03-14 00:42:12</td>\n",
       "      <td>Opel_Vectra_1.6_16V</td>\n",
       "      <td>privat</td>\n",
       "      <td>Angebot</td>\n",
       "      <td>$1,250</td>\n",
       "      <td>control</td>\n",
       "      <td>limousine</td>\n",
       "      <td>1996</td>\n",
       "      <td>manuell</td>\n",
       "      <td>101</td>\n",
       "      <td>vectra</td>\n",
       "      <td>150,000km</td>\n",
       "      <td>1</td>\n",
       "      <td>benzin</td>\n",
       "      <td>opel</td>\n",
       "      <td>nein</td>\n",
       "      <td>2016-03-13 00:00:00</td>\n",
       "      <td>0</td>\n",
       "      <td>45897</td>\n",
       "      <td>2016-04-06 21:18:48</td>\n",
       "    </tr>\n",
       "  </tbody>\n",
       "</table>\n",
       "</div>"
      ],
      "text/plain": [
       "               dateCrawled                                               name  \\\n",
       "49995  2016-03-27 14:38:19   Audi_Q5_3.0_TDI_qu._S_tr.__Navi__Panorama__Xenon   \n",
       "49996  2016-03-28 10:50:25  Opel_Astra_F_Cabrio_Bertone_Edition___TÜV_neu+...   \n",
       "49997  2016-04-02 14:44:48                     Fiat_500_C_1.2_Dualogic_Lounge   \n",
       "49998  2016-03-08 19:25:42                 Audi_A3_2.0_TDI_Sportback_Ambition   \n",
       "49999  2016-03-14 00:42:12                                Opel_Vectra_1.6_16V   \n",
       "\n",
       "       seller offerType    price   abtest vehicleType  yearOfRegistration  \\\n",
       "49995  privat   Angebot  $24,900  control   limousine                2011   \n",
       "49996  privat   Angebot   $1,980  control      cabrio                1996   \n",
       "49997  privat   Angebot  $13,200     test      cabrio                2014   \n",
       "49998  privat   Angebot  $22,900  control       kombi                2013   \n",
       "49999  privat   Angebot   $1,250  control   limousine                1996   \n",
       "\n",
       "         gearbox  powerPS   model   odometer  monthOfRegistration fuelType  \\\n",
       "49995  automatik      239      q5  100,000km                    1   diesel   \n",
       "49996    manuell       75   astra  150,000km                    5   benzin   \n",
       "49997  automatik       69     500    5,000km                   11   benzin   \n",
       "49998    manuell      150      a3   40,000km                   11   diesel   \n",
       "49999    manuell      101  vectra  150,000km                    1   benzin   \n",
       "\n",
       "      brand notRepairedDamage          dateCreated  nrOfPictures  postalCode  \\\n",
       "49995  audi              nein  2016-03-27 00:00:00             0       82131   \n",
       "49996  opel              nein  2016-03-28 00:00:00             0       44807   \n",
       "49997  fiat              nein  2016-04-02 00:00:00             0       73430   \n",
       "49998  audi              nein  2016-03-08 00:00:00             0       35683   \n",
       "49999  opel              nein  2016-03-13 00:00:00             0       45897   \n",
       "\n",
       "                  lastSeen  \n",
       "49995  2016-04-01 13:47:40  \n",
       "49996  2016-04-02 14:18:02  \n",
       "49997  2016-04-04 11:47:27  \n",
       "49998  2016-04-05 16:45:07  \n",
       "49999  2016-04-06 21:18:48  "
      ]
     },
     "execution_count": 66,
     "metadata": {},
     "output_type": "execute_result"
    }
   ],
   "source": [
    "autos.tail()"
   ]
  },
  {
   "cell_type": "code",
   "execution_count": 67,
   "metadata": {},
   "outputs": [
    {
     "name": "stdout",
     "output_type": "stream",
     "text": [
      "<class 'pandas.core.frame.DataFrame'>\n",
      "RangeIndex: 50000 entries, 0 to 49999\n",
      "Data columns (total 20 columns):\n",
      "dateCrawled            50000 non-null object\n",
      "name                   50000 non-null object\n",
      "seller                 50000 non-null object\n",
      "offerType              50000 non-null object\n",
      "price                  50000 non-null object\n",
      "abtest                 50000 non-null object\n",
      "vehicleType            44905 non-null object\n",
      "yearOfRegistration     50000 non-null int64\n",
      "gearbox                47320 non-null object\n",
      "powerPS                50000 non-null int64\n",
      "model                  47242 non-null object\n",
      "odometer               50000 non-null object\n",
      "monthOfRegistration    50000 non-null int64\n",
      "fuelType               45518 non-null object\n",
      "brand                  50000 non-null object\n",
      "notRepairedDamage      40171 non-null object\n",
      "dateCreated            50000 non-null object\n",
      "nrOfPictures           50000 non-null int64\n",
      "postalCode             50000 non-null int64\n",
      "lastSeen               50000 non-null object\n",
      "dtypes: int64(5), object(15)\n",
      "memory usage: 7.6+ MB\n"
     ]
    }
   ],
   "source": [
    "autos.info()"
   ]
  },
  {
   "cell_type": "code",
   "execution_count": 68,
   "metadata": {},
   "outputs": [
    {
     "data": {
      "text/plain": [
       "dateCrawled               0\n",
       "name                      0\n",
       "seller                    0\n",
       "offerType                 0\n",
       "price                     0\n",
       "abtest                    0\n",
       "vehicleType            5095\n",
       "yearOfRegistration        0\n",
       "gearbox                2680\n",
       "powerPS                   0\n",
       "model                  2758\n",
       "odometer                  0\n",
       "monthOfRegistration       0\n",
       "fuelType               4482\n",
       "brand                     0\n",
       "notRepairedDamage      9829\n",
       "dateCreated               0\n",
       "nrOfPictures              0\n",
       "postalCode                0\n",
       "lastSeen                  0\n",
       "dtype: int64"
      ]
     },
     "execution_count": 68,
     "metadata": {},
     "output_type": "execute_result"
    }
   ],
   "source": [
    "autos.isnull().sum()"
   ]
  },
  {
   "cell_type": "markdown",
   "metadata": {},
   "source": [
    "Look at descriptive statistics for all columns.\n",
    "Write a markdown cell noting:\n",
    "* Any columns that have mostly one value that are candidates to be dropped\n",
    "* Any columns that need more investigation.\n",
    "* Any examples of numeric data stored as text that needs to be cleaned.\n",
    "If you need to investigate any columns more, do so and write up any additional things you found.\n",
    "You likely found that the price and odometer columns are numeric values stored as text. \n",
    "For each column:\n",
    "* Remove any non-numeric characters.\n",
    "* Convert the column to a numeric dtype.\n",
    "* Use DataFrame.rename() to rename the column to odometer_km."
   ]
  },
  {
   "cell_type": "code",
   "execution_count": 69,
   "metadata": {
    "scrolled": false
   },
   "outputs": [
    {
     "data": {
      "text/plain": [
       "benzin     30107\n",
       "diesel     14567\n",
       "NaN         4482\n",
       "lpg          691\n",
       "cng           75\n",
       "hybrid        37\n",
       "andere        22\n",
       "elektro       19\n",
       "Name: fuelType, dtype: int64"
      ]
     },
     "execution_count": 69,
     "metadata": {},
     "output_type": "execute_result"
    }
   ],
   "source": [
    "autos['fuelType'].value_counts(dropna=False)"
   ]
  },
  {
   "cell_type": "code",
   "execution_count": 70,
   "metadata": {},
   "outputs": [
    {
     "data": {
      "text/plain": [
       "4482"
      ]
     },
     "execution_count": 70,
     "metadata": {},
     "output_type": "execute_result"
    }
   ],
   "source": [
    "autos['fuelType'].isnull().sum()"
   ]
  },
  {
   "cell_type": "markdown",
   "metadata": {},
   "source": [
    "# Observations"
   ]
  },
  {
   "cell_type": "markdown",
   "metadata": {},
   "source": [
    "Some data fields were easier to observe in Excel using the filter option.\n",
    "1. German words - gearbox = automatik, notRepairedDamage =nein\n",
    "2. Missing Values - vehicleType, gearbox, fuelType\n",
    "3. nrOfPictures is always 0 - can be dropped\n",
    "4. price is text and in $ not euro - may need to be converted to numeric\n",
    "5. odometer is text and in km - may need to be converted to numeric\n",
    "6. several other fields such as powerPS and year of registraion are text and may need to be numeric\n",
    "7. seller (gewerblich=1,privat=49999) and offertype (Angebot=49999, Gesuch=1) have same values for the most part\n",
    "8. gearbox and notRepairedDamage have 2 unique values only\n",
    "9. Name of car has numeric value - row = 1331, 4077, 6232"
   ]
  },
  {
   "cell_type": "markdown",
   "metadata": {},
   "source": [
    "From the work we did in the last screen, we can make the following observations:\n",
    "\n",
    "1. The dataset contains 20 columns, most of which are strings.\n",
    "2. Some columns have null values, but none have more than ~20% null values.\n",
    "3. The column names use [camelcase](https://en.wikipedia.org/wiki/Camel_case) instead of Python's preferred [snakecase](https://en.wikipedia.org/wiki/Snake_case), which means we can't just replace spaces with underscores."
   ]
  },
  {
   "cell_type": "markdown",
   "metadata": {},
   "source": [
    "# Convert column names"
   ]
  },
  {
   "cell_type": "markdown",
   "metadata": {},
   "source": [
    "Make the following edits to columns names:\n",
    "* yearOfRegistration to registration_year\n",
    "* monthOfRegistration to registration_month\n",
    "* notRepairedDamage to unrepaired_damage\n",
    "* dateCreated to ad_created\n",
    "* The rest of the columnn names from camelcase to snakecase.\n",
    "Assign the modified column names back to the DataFrame.columns attribute.\n",
    "Use DataFrame.head() to look at the current state of the autos dataframe.\n",
    "Write a markdown cell explaining the changes you made and why."
   ]
  },
  {
   "cell_type": "code",
   "execution_count": 71,
   "metadata": {},
   "outputs": [
    {
     "data": {
      "text/plain": [
       "Index(['dateCrawled', 'name', 'seller', 'offerType', 'price', 'abtest',\n",
       "       'vehicleType', 'yearOfRegistration', 'gearbox', 'powerPS', 'model',\n",
       "       'odometer', 'monthOfRegistration', 'fuelType', 'brand',\n",
       "       'notRepairedDamage', 'dateCreated', 'nrOfPictures', 'postalCode',\n",
       "       'lastSeen'],\n",
       "      dtype='object')"
      ]
     },
     "execution_count": 71,
     "metadata": {},
     "output_type": "execute_result"
    }
   ],
   "source": [
    "autos.columns"
   ]
  },
  {
   "cell_type": "code",
   "execution_count": 72,
   "metadata": {},
   "outputs": [
    {
     "data": {
      "text/html": [
       "<div>\n",
       "<style scoped>\n",
       "    .dataframe tbody tr th:only-of-type {\n",
       "        vertical-align: middle;\n",
       "    }\n",
       "\n",
       "    .dataframe tbody tr th {\n",
       "        vertical-align: top;\n",
       "    }\n",
       "\n",
       "    .dataframe thead th {\n",
       "        text-align: right;\n",
       "    }\n",
       "</style>\n",
       "<table border=\"1\" class=\"dataframe\">\n",
       "  <thead>\n",
       "    <tr style=\"text-align: right;\">\n",
       "      <th></th>\n",
       "      <th>date_crawled</th>\n",
       "      <th>name</th>\n",
       "      <th>seller</th>\n",
       "      <th>offer_type</th>\n",
       "      <th>price</th>\n",
       "      <th>ab_test</th>\n",
       "      <th>vehicle_type</th>\n",
       "      <th>registration_year</th>\n",
       "      <th>gearbox</th>\n",
       "      <th>power_ps</th>\n",
       "      <th>model</th>\n",
       "      <th>odometer_km</th>\n",
       "      <th>registration_month</th>\n",
       "      <th>fuel_type</th>\n",
       "      <th>brand</th>\n",
       "      <th>unrepaired_damage</th>\n",
       "      <th>ad_created</th>\n",
       "      <th>num_photos</th>\n",
       "      <th>postal_code</th>\n",
       "      <th>last_seen</th>\n",
       "    </tr>\n",
       "  </thead>\n",
       "  <tbody>\n",
       "    <tr>\n",
       "      <th>0</th>\n",
       "      <td>2016-03-26 17:47:46</td>\n",
       "      <td>Peugeot_807_160_NAVTECH_ON_BOARD</td>\n",
       "      <td>privat</td>\n",
       "      <td>Angebot</td>\n",
       "      <td>$5,000</td>\n",
       "      <td>control</td>\n",
       "      <td>bus</td>\n",
       "      <td>2004</td>\n",
       "      <td>manuell</td>\n",
       "      <td>158</td>\n",
       "      <td>andere</td>\n",
       "      <td>150,000km</td>\n",
       "      <td>3</td>\n",
       "      <td>lpg</td>\n",
       "      <td>peugeot</td>\n",
       "      <td>nein</td>\n",
       "      <td>2016-03-26 00:00:00</td>\n",
       "      <td>0</td>\n",
       "      <td>79588</td>\n",
       "      <td>2016-04-06 06:45:54</td>\n",
       "    </tr>\n",
       "    <tr>\n",
       "      <th>1</th>\n",
       "      <td>2016-04-04 13:38:56</td>\n",
       "      <td>BMW_740i_4_4_Liter_HAMANN_UMBAU_Mega_Optik</td>\n",
       "      <td>privat</td>\n",
       "      <td>Angebot</td>\n",
       "      <td>$8,500</td>\n",
       "      <td>control</td>\n",
       "      <td>limousine</td>\n",
       "      <td>1997</td>\n",
       "      <td>automatik</td>\n",
       "      <td>286</td>\n",
       "      <td>7er</td>\n",
       "      <td>150,000km</td>\n",
       "      <td>6</td>\n",
       "      <td>benzin</td>\n",
       "      <td>bmw</td>\n",
       "      <td>nein</td>\n",
       "      <td>2016-04-04 00:00:00</td>\n",
       "      <td>0</td>\n",
       "      <td>71034</td>\n",
       "      <td>2016-04-06 14:45:08</td>\n",
       "    </tr>\n",
       "    <tr>\n",
       "      <th>2</th>\n",
       "      <td>2016-03-26 18:57:24</td>\n",
       "      <td>Volkswagen_Golf_1.6_United</td>\n",
       "      <td>privat</td>\n",
       "      <td>Angebot</td>\n",
       "      <td>$8,990</td>\n",
       "      <td>test</td>\n",
       "      <td>limousine</td>\n",
       "      <td>2009</td>\n",
       "      <td>manuell</td>\n",
       "      <td>102</td>\n",
       "      <td>golf</td>\n",
       "      <td>70,000km</td>\n",
       "      <td>7</td>\n",
       "      <td>benzin</td>\n",
       "      <td>volkswagen</td>\n",
       "      <td>nein</td>\n",
       "      <td>2016-03-26 00:00:00</td>\n",
       "      <td>0</td>\n",
       "      <td>35394</td>\n",
       "      <td>2016-04-06 20:15:37</td>\n",
       "    </tr>\n",
       "    <tr>\n",
       "      <th>3</th>\n",
       "      <td>2016-03-12 16:58:10</td>\n",
       "      <td>Smart_smart_fortwo_coupe_softouch/F1/Klima/Pan...</td>\n",
       "      <td>privat</td>\n",
       "      <td>Angebot</td>\n",
       "      <td>$4,350</td>\n",
       "      <td>control</td>\n",
       "      <td>kleinwagen</td>\n",
       "      <td>2007</td>\n",
       "      <td>automatik</td>\n",
       "      <td>71</td>\n",
       "      <td>fortwo</td>\n",
       "      <td>70,000km</td>\n",
       "      <td>6</td>\n",
       "      <td>benzin</td>\n",
       "      <td>smart</td>\n",
       "      <td>nein</td>\n",
       "      <td>2016-03-12 00:00:00</td>\n",
       "      <td>0</td>\n",
       "      <td>33729</td>\n",
       "      <td>2016-03-15 03:16:28</td>\n",
       "    </tr>\n",
       "    <tr>\n",
       "      <th>4</th>\n",
       "      <td>2016-04-01 14:38:50</td>\n",
       "      <td>Ford_Focus_1_6_Benzin_TÜV_neu_ist_sehr_gepfleg...</td>\n",
       "      <td>privat</td>\n",
       "      <td>Angebot</td>\n",
       "      <td>$1,350</td>\n",
       "      <td>test</td>\n",
       "      <td>kombi</td>\n",
       "      <td>2003</td>\n",
       "      <td>manuell</td>\n",
       "      <td>0</td>\n",
       "      <td>focus</td>\n",
       "      <td>150,000km</td>\n",
       "      <td>7</td>\n",
       "      <td>benzin</td>\n",
       "      <td>ford</td>\n",
       "      <td>nein</td>\n",
       "      <td>2016-04-01 00:00:00</td>\n",
       "      <td>0</td>\n",
       "      <td>39218</td>\n",
       "      <td>2016-04-01 14:38:50</td>\n",
       "    </tr>\n",
       "  </tbody>\n",
       "</table>\n",
       "</div>"
      ],
      "text/plain": [
       "          date_crawled                                               name  \\\n",
       "0  2016-03-26 17:47:46                   Peugeot_807_160_NAVTECH_ON_BOARD   \n",
       "1  2016-04-04 13:38:56         BMW_740i_4_4_Liter_HAMANN_UMBAU_Mega_Optik   \n",
       "2  2016-03-26 18:57:24                         Volkswagen_Golf_1.6_United   \n",
       "3  2016-03-12 16:58:10  Smart_smart_fortwo_coupe_softouch/F1/Klima/Pan...   \n",
       "4  2016-04-01 14:38:50  Ford_Focus_1_6_Benzin_TÜV_neu_ist_sehr_gepfleg...   \n",
       "\n",
       "   seller offer_type   price  ab_test vehicle_type  registration_year  \\\n",
       "0  privat    Angebot  $5,000  control          bus               2004   \n",
       "1  privat    Angebot  $8,500  control    limousine               1997   \n",
       "2  privat    Angebot  $8,990     test    limousine               2009   \n",
       "3  privat    Angebot  $4,350  control   kleinwagen               2007   \n",
       "4  privat    Angebot  $1,350     test        kombi               2003   \n",
       "\n",
       "     gearbox  power_ps   model odometer_km  registration_month fuel_type  \\\n",
       "0    manuell       158  andere   150,000km                   3       lpg   \n",
       "1  automatik       286     7er   150,000km                   6    benzin   \n",
       "2    manuell       102    golf    70,000km                   7    benzin   \n",
       "3  automatik        71  fortwo    70,000km                   6    benzin   \n",
       "4    manuell         0   focus   150,000km                   7    benzin   \n",
       "\n",
       "        brand unrepaired_damage           ad_created  num_photos  postal_code  \\\n",
       "0     peugeot              nein  2016-03-26 00:00:00           0        79588   \n",
       "1         bmw              nein  2016-04-04 00:00:00           0        71034   \n",
       "2  volkswagen              nein  2016-03-26 00:00:00           0        35394   \n",
       "3       smart              nein  2016-03-12 00:00:00           0        33729   \n",
       "4        ford              nein  2016-04-01 00:00:00           0        39218   \n",
       "\n",
       "             last_seen  \n",
       "0  2016-04-06 06:45:54  \n",
       "1  2016-04-06 14:45:08  \n",
       "2  2016-04-06 20:15:37  \n",
       "3  2016-03-15 03:16:28  \n",
       "4  2016-04-01 14:38:50  "
      ]
     },
     "execution_count": 72,
     "metadata": {},
     "output_type": "execute_result"
    }
   ],
   "source": [
    "# rename columns to snakecase\n",
    "autos.columns = ['date_crawled', 'name', 'seller', 'offer_type', 'price', 'ab_test',\n",
    "       'vehicle_type', 'registration_year', 'gearbox', 'power_ps', 'model',\n",
    "       'odometer_km', 'registration_month', 'fuel_type', 'brand',\n",
    "       'unrepaired_damage', 'ad_created', 'num_photos', 'postal_code',\n",
    "       'last_seen']\n",
    "autos.head()"
   ]
  },
  {
   "cell_type": "code",
   "execution_count": 73,
   "metadata": {},
   "outputs": [
    {
     "data": {
      "text/html": [
       "<div>\n",
       "<style scoped>\n",
       "    .dataframe tbody tr th:only-of-type {\n",
       "        vertical-align: middle;\n",
       "    }\n",
       "\n",
       "    .dataframe tbody tr th {\n",
       "        vertical-align: top;\n",
       "    }\n",
       "\n",
       "    .dataframe thead th {\n",
       "        text-align: right;\n",
       "    }\n",
       "</style>\n",
       "<table border=\"1\" class=\"dataframe\">\n",
       "  <thead>\n",
       "    <tr style=\"text-align: right;\">\n",
       "      <th></th>\n",
       "      <th>date_crawled</th>\n",
       "      <th>name</th>\n",
       "      <th>seller</th>\n",
       "      <th>offer_type</th>\n",
       "      <th>price</th>\n",
       "      <th>ab_test</th>\n",
       "      <th>vehicle_type</th>\n",
       "      <th>registration_year</th>\n",
       "      <th>gearbox</th>\n",
       "      <th>power_ps</th>\n",
       "      <th>model</th>\n",
       "      <th>odometer_km</th>\n",
       "      <th>registration_month</th>\n",
       "      <th>fuel_type</th>\n",
       "      <th>brand</th>\n",
       "      <th>unrepaired_damage</th>\n",
       "      <th>ad_created</th>\n",
       "      <th>num_photos</th>\n",
       "      <th>postal_code</th>\n",
       "      <th>last_seen</th>\n",
       "    </tr>\n",
       "  </thead>\n",
       "  <tbody>\n",
       "    <tr>\n",
       "      <th>count</th>\n",
       "      <td>50000</td>\n",
       "      <td>50000</td>\n",
       "      <td>50000</td>\n",
       "      <td>50000</td>\n",
       "      <td>50000</td>\n",
       "      <td>50000</td>\n",
       "      <td>44905</td>\n",
       "      <td>50000.000</td>\n",
       "      <td>47320</td>\n",
       "      <td>50000.000</td>\n",
       "      <td>47242</td>\n",
       "      <td>50000</td>\n",
       "      <td>50000.000</td>\n",
       "      <td>45518</td>\n",
       "      <td>50000</td>\n",
       "      <td>40171</td>\n",
       "      <td>50000</td>\n",
       "      <td>50000.000</td>\n",
       "      <td>50000.000</td>\n",
       "      <td>50000</td>\n",
       "    </tr>\n",
       "    <tr>\n",
       "      <th>unique</th>\n",
       "      <td>48213</td>\n",
       "      <td>38754</td>\n",
       "      <td>2</td>\n",
       "      <td>2</td>\n",
       "      <td>2357</td>\n",
       "      <td>2</td>\n",
       "      <td>8</td>\n",
       "      <td>nan</td>\n",
       "      <td>2</td>\n",
       "      <td>nan</td>\n",
       "      <td>245</td>\n",
       "      <td>13</td>\n",
       "      <td>nan</td>\n",
       "      <td>7</td>\n",
       "      <td>40</td>\n",
       "      <td>2</td>\n",
       "      <td>76</td>\n",
       "      <td>nan</td>\n",
       "      <td>nan</td>\n",
       "      <td>39481</td>\n",
       "    </tr>\n",
       "    <tr>\n",
       "      <th>top</th>\n",
       "      <td>2016-03-14 20:50:02</td>\n",
       "      <td>Ford_Fiesta</td>\n",
       "      <td>privat</td>\n",
       "      <td>Angebot</td>\n",
       "      <td>$0</td>\n",
       "      <td>test</td>\n",
       "      <td>limousine</td>\n",
       "      <td>nan</td>\n",
       "      <td>manuell</td>\n",
       "      <td>nan</td>\n",
       "      <td>golf</td>\n",
       "      <td>150,000km</td>\n",
       "      <td>nan</td>\n",
       "      <td>benzin</td>\n",
       "      <td>volkswagen</td>\n",
       "      <td>nein</td>\n",
       "      <td>2016-04-03 00:00:00</td>\n",
       "      <td>nan</td>\n",
       "      <td>nan</td>\n",
       "      <td>2016-04-07 06:17:27</td>\n",
       "    </tr>\n",
       "    <tr>\n",
       "      <th>freq</th>\n",
       "      <td>3</td>\n",
       "      <td>78</td>\n",
       "      <td>49999</td>\n",
       "      <td>49999</td>\n",
       "      <td>1421</td>\n",
       "      <td>25756</td>\n",
       "      <td>12859</td>\n",
       "      <td>nan</td>\n",
       "      <td>36993</td>\n",
       "      <td>nan</td>\n",
       "      <td>4024</td>\n",
       "      <td>32424</td>\n",
       "      <td>nan</td>\n",
       "      <td>30107</td>\n",
       "      <td>10687</td>\n",
       "      <td>35232</td>\n",
       "      <td>1946</td>\n",
       "      <td>nan</td>\n",
       "      <td>nan</td>\n",
       "      <td>8</td>\n",
       "    </tr>\n",
       "    <tr>\n",
       "      <th>mean</th>\n",
       "      <td>NaN</td>\n",
       "      <td>NaN</td>\n",
       "      <td>NaN</td>\n",
       "      <td>NaN</td>\n",
       "      <td>NaN</td>\n",
       "      <td>NaN</td>\n",
       "      <td>NaN</td>\n",
       "      <td>2005.073</td>\n",
       "      <td>NaN</td>\n",
       "      <td>116.356</td>\n",
       "      <td>NaN</td>\n",
       "      <td>NaN</td>\n",
       "      <td>5.723</td>\n",
       "      <td>NaN</td>\n",
       "      <td>NaN</td>\n",
       "      <td>NaN</td>\n",
       "      <td>NaN</td>\n",
       "      <td>0.000</td>\n",
       "      <td>50813.627</td>\n",
       "      <td>NaN</td>\n",
       "    </tr>\n",
       "    <tr>\n",
       "      <th>std</th>\n",
       "      <td>NaN</td>\n",
       "      <td>NaN</td>\n",
       "      <td>NaN</td>\n",
       "      <td>NaN</td>\n",
       "      <td>NaN</td>\n",
       "      <td>NaN</td>\n",
       "      <td>NaN</td>\n",
       "      <td>105.713</td>\n",
       "      <td>NaN</td>\n",
       "      <td>209.217</td>\n",
       "      <td>NaN</td>\n",
       "      <td>NaN</td>\n",
       "      <td>3.712</td>\n",
       "      <td>NaN</td>\n",
       "      <td>NaN</td>\n",
       "      <td>NaN</td>\n",
       "      <td>NaN</td>\n",
       "      <td>0.000</td>\n",
       "      <td>25779.748</td>\n",
       "      <td>NaN</td>\n",
       "    </tr>\n",
       "    <tr>\n",
       "      <th>min</th>\n",
       "      <td>NaN</td>\n",
       "      <td>NaN</td>\n",
       "      <td>NaN</td>\n",
       "      <td>NaN</td>\n",
       "      <td>NaN</td>\n",
       "      <td>NaN</td>\n",
       "      <td>NaN</td>\n",
       "      <td>1000.000</td>\n",
       "      <td>NaN</td>\n",
       "      <td>0.000</td>\n",
       "      <td>NaN</td>\n",
       "      <td>NaN</td>\n",
       "      <td>0.000</td>\n",
       "      <td>NaN</td>\n",
       "      <td>NaN</td>\n",
       "      <td>NaN</td>\n",
       "      <td>NaN</td>\n",
       "      <td>0.000</td>\n",
       "      <td>1067.000</td>\n",
       "      <td>NaN</td>\n",
       "    </tr>\n",
       "    <tr>\n",
       "      <th>25%</th>\n",
       "      <td>NaN</td>\n",
       "      <td>NaN</td>\n",
       "      <td>NaN</td>\n",
       "      <td>NaN</td>\n",
       "      <td>NaN</td>\n",
       "      <td>NaN</td>\n",
       "      <td>NaN</td>\n",
       "      <td>1999.000</td>\n",
       "      <td>NaN</td>\n",
       "      <td>70.000</td>\n",
       "      <td>NaN</td>\n",
       "      <td>NaN</td>\n",
       "      <td>3.000</td>\n",
       "      <td>NaN</td>\n",
       "      <td>NaN</td>\n",
       "      <td>NaN</td>\n",
       "      <td>NaN</td>\n",
       "      <td>0.000</td>\n",
       "      <td>30451.000</td>\n",
       "      <td>NaN</td>\n",
       "    </tr>\n",
       "    <tr>\n",
       "      <th>50%</th>\n",
       "      <td>NaN</td>\n",
       "      <td>NaN</td>\n",
       "      <td>NaN</td>\n",
       "      <td>NaN</td>\n",
       "      <td>NaN</td>\n",
       "      <td>NaN</td>\n",
       "      <td>NaN</td>\n",
       "      <td>2003.000</td>\n",
       "      <td>NaN</td>\n",
       "      <td>105.000</td>\n",
       "      <td>NaN</td>\n",
       "      <td>NaN</td>\n",
       "      <td>6.000</td>\n",
       "      <td>NaN</td>\n",
       "      <td>NaN</td>\n",
       "      <td>NaN</td>\n",
       "      <td>NaN</td>\n",
       "      <td>0.000</td>\n",
       "      <td>49577.000</td>\n",
       "      <td>NaN</td>\n",
       "    </tr>\n",
       "    <tr>\n",
       "      <th>75%</th>\n",
       "      <td>NaN</td>\n",
       "      <td>NaN</td>\n",
       "      <td>NaN</td>\n",
       "      <td>NaN</td>\n",
       "      <td>NaN</td>\n",
       "      <td>NaN</td>\n",
       "      <td>NaN</td>\n",
       "      <td>2008.000</td>\n",
       "      <td>NaN</td>\n",
       "      <td>150.000</td>\n",
       "      <td>NaN</td>\n",
       "      <td>NaN</td>\n",
       "      <td>9.000</td>\n",
       "      <td>NaN</td>\n",
       "      <td>NaN</td>\n",
       "      <td>NaN</td>\n",
       "      <td>NaN</td>\n",
       "      <td>0.000</td>\n",
       "      <td>71540.000</td>\n",
       "      <td>NaN</td>\n",
       "    </tr>\n",
       "    <tr>\n",
       "      <th>max</th>\n",
       "      <td>NaN</td>\n",
       "      <td>NaN</td>\n",
       "      <td>NaN</td>\n",
       "      <td>NaN</td>\n",
       "      <td>NaN</td>\n",
       "      <td>NaN</td>\n",
       "      <td>NaN</td>\n",
       "      <td>9999.000</td>\n",
       "      <td>NaN</td>\n",
       "      <td>17700.000</td>\n",
       "      <td>NaN</td>\n",
       "      <td>NaN</td>\n",
       "      <td>12.000</td>\n",
       "      <td>NaN</td>\n",
       "      <td>NaN</td>\n",
       "      <td>NaN</td>\n",
       "      <td>NaN</td>\n",
       "      <td>0.000</td>\n",
       "      <td>99998.000</td>\n",
       "      <td>NaN</td>\n",
       "    </tr>\n",
       "  </tbody>\n",
       "</table>\n",
       "</div>"
      ],
      "text/plain": [
       "               date_crawled         name  seller offer_type  price ab_test  \\\n",
       "count                 50000        50000   50000      50000  50000   50000   \n",
       "unique                48213        38754       2          2   2357       2   \n",
       "top     2016-03-14 20:50:02  Ford_Fiesta  privat    Angebot     $0    test   \n",
       "freq                      3           78   49999      49999   1421   25756   \n",
       "mean                    NaN          NaN     NaN        NaN    NaN     NaN   \n",
       "std                     NaN          NaN     NaN        NaN    NaN     NaN   \n",
       "min                     NaN          NaN     NaN        NaN    NaN     NaN   \n",
       "25%                     NaN          NaN     NaN        NaN    NaN     NaN   \n",
       "50%                     NaN          NaN     NaN        NaN    NaN     NaN   \n",
       "75%                     NaN          NaN     NaN        NaN    NaN     NaN   \n",
       "max                     NaN          NaN     NaN        NaN    NaN     NaN   \n",
       "\n",
       "       vehicle_type  registration_year  gearbox  power_ps  model odometer_km  \\\n",
       "count         44905          50000.000    47320 50000.000  47242       50000   \n",
       "unique            8                nan        2       nan    245          13   \n",
       "top       limousine                nan  manuell       nan   golf   150,000km   \n",
       "freq          12859                nan    36993       nan   4024       32424   \n",
       "mean            NaN           2005.073      NaN   116.356    NaN         NaN   \n",
       "std             NaN            105.713      NaN   209.217    NaN         NaN   \n",
       "min             NaN           1000.000      NaN     0.000    NaN         NaN   \n",
       "25%             NaN           1999.000      NaN    70.000    NaN         NaN   \n",
       "50%             NaN           2003.000      NaN   105.000    NaN         NaN   \n",
       "75%             NaN           2008.000      NaN   150.000    NaN         NaN   \n",
       "max             NaN           9999.000      NaN 17700.000    NaN         NaN   \n",
       "\n",
       "        registration_month fuel_type       brand unrepaired_damage  \\\n",
       "count            50000.000     45518       50000             40171   \n",
       "unique                 nan         7          40                 2   \n",
       "top                    nan    benzin  volkswagen              nein   \n",
       "freq                   nan     30107       10687             35232   \n",
       "mean                 5.723       NaN         NaN               NaN   \n",
       "std                  3.712       NaN         NaN               NaN   \n",
       "min                  0.000       NaN         NaN               NaN   \n",
       "25%                  3.000       NaN         NaN               NaN   \n",
       "50%                  6.000       NaN         NaN               NaN   \n",
       "75%                  9.000       NaN         NaN               NaN   \n",
       "max                 12.000       NaN         NaN               NaN   \n",
       "\n",
       "                 ad_created  num_photos  postal_code            last_seen  \n",
       "count                 50000   50000.000    50000.000                50000  \n",
       "unique                   76         nan          nan                39481  \n",
       "top     2016-04-03 00:00:00         nan          nan  2016-04-07 06:17:27  \n",
       "freq                   1946         nan          nan                    8  \n",
       "mean                    NaN       0.000    50813.627                  NaN  \n",
       "std                     NaN       0.000    25779.748                  NaN  \n",
       "min                     NaN       0.000     1067.000                  NaN  \n",
       "25%                     NaN       0.000    30451.000                  NaN  \n",
       "50%                     NaN       0.000    49577.000                  NaN  \n",
       "75%                     NaN       0.000    71540.000                  NaN  \n",
       "max                     NaN       0.000    99998.000                  NaN  "
      ]
     },
     "execution_count": 73,
     "metadata": {},
     "output_type": "execute_result"
    }
   ],
   "source": [
    "# DataFrame.describe() (with include='all' to get both categorical and numeric columns) \n",
    "autos.describe(include='all')"
   ]
  },
  {
   "cell_type": "markdown",
   "metadata": {},
   "source": [
    "# Drop columns"
   ]
  },
  {
   "cell_type": "code",
   "execution_count": 74,
   "metadata": {},
   "outputs": [],
   "source": [
    "# num_photos, seller and offer_type can be dropped\n",
    "autos = autos.drop([\"num_photos\", \"seller\", \"offer_type\"], axis=1)"
   ]
  },
  {
   "cell_type": "code",
   "execution_count": 75,
   "metadata": {},
   "outputs": [
    {
     "data": {
      "text/plain": [
       "0    5000\n",
       "1    8500\n",
       "2    8990\n",
       "3    4350\n",
       "4    1350\n",
       "Name: price, dtype: int32"
      ]
     },
     "execution_count": 75,
     "metadata": {},
     "output_type": "execute_result"
    }
   ],
   "source": [
    "# price an be converted to numeric after dropping '$'\n",
    "autos[\"price\"] = (autos[\"price\"]\n",
    "                          .str.replace(\"$\",\"\")\n",
    "                          .str.replace(\",\",\"\")\n",
    "                          .astype(int)\n",
    "                          )\n",
    "autos[\"price\"].head()"
   ]
  },
  {
   "cell_type": "code",
   "execution_count": 76,
   "metadata": {},
   "outputs": [
    {
     "data": {
      "text/plain": [
       "0    150000\n",
       "1    150000\n",
       "2     70000\n",
       "3     70000\n",
       "4    150000\n",
       "Name: odometer_km, dtype: int32"
      ]
     },
     "execution_count": 76,
     "metadata": {},
     "output_type": "execute_result"
    }
   ],
   "source": [
    "# odometer can be converted to numeric after dropping 'km'\n",
    "autos[\"odometer_km\"] = (autos[\"odometer_km\"]\n",
    "                          .str.replace(\"km\",\"\")\n",
    "                          .str.replace(\",\",\"\")\n",
    "                          .astype(int)\n",
    "                          )\n",
    "autos[\"odometer_km\"].head()"
   ]
  },
  {
   "cell_type": "markdown",
   "metadata": {},
   "source": [
    "# Check for outliers\n",
    "For each of the odometer_km and price columns:\n",
    "Use the techniques above to explore the data\n",
    "If you find there are outliers, remove them and write a markdown paragraph explaining your decision.\n",
    "After you have removed the outliers, make some observations about the remaining values, with examples of how we can use that to extract YYYY, YYYY-MM or YYYY-MM-DD from those columns."
   ]
  },
  {
   "cell_type": "code",
   "execution_count": 77,
   "metadata": {},
   "outputs": [
    {
     "data": {
      "text/plain": [
       "150000    32424\n",
       "125000     5170\n",
       "100000     2169\n",
       "90000      1757\n",
       "80000      1436\n",
       "70000      1230\n",
       "60000      1164\n",
       "50000      1027\n",
       "5000        967\n",
       "40000       819\n",
       "30000       789\n",
       "20000       784\n",
       "10000       264\n",
       "Name: odometer_km, dtype: int64"
      ]
     },
     "execution_count": 77,
     "metadata": {},
     "output_type": "execute_result"
    }
   ],
   "source": [
    "autos['odometer_km'].value_counts()\n",
    "# We can see that the values in this field are rounded, which might indicate that sellers had to choose from pre-set \n",
    "# options for this field. Additionally, there are more high mileage than low mileage vehicles."
   ]
  },
  {
   "cell_type": "code",
   "execution_count": 78,
   "metadata": {},
   "outputs": [
    {
     "name": "stdout",
     "output_type": "stream",
     "text": [
      "count      50000.000\n",
      "mean        9840.044\n",
      "std       481104.381\n",
      "min            0.000\n",
      "25%         1100.000\n",
      "50%         2950.000\n",
      "75%         7200.000\n",
      "max     99999999.000\n",
      "Name: price, dtype: float64\n",
      "0    1421\n",
      "1     156\n",
      "2       3\n",
      "3       1\n",
      "5       2\n",
      "Name: price, dtype: int64\n",
      "0    1421\n",
      "1     156\n",
      "2       3\n",
      "3       1\n",
      "5       2\n",
      "Name: price, dtype: int64\n"
     ]
    }
   ],
   "source": [
    "# use round function just to suppress scientific notation for specific dataframe column\n",
    "autos['price'].round(4)\n",
    "print(autos['price'].describe())\n",
    "print(autos['price'].value_counts().sort_index().head())\n",
    "print(autos['price'].value_counts().sort_index().head())\n",
    "# There are 1421 cars with price 0 which can be removed\n",
    "# cars may have a price over a $1M. lets investigate the high prices. "
   ]
  },
  {
   "cell_type": "code",
   "execution_count": 79,
   "metadata": {},
   "outputs": [
    {
     "data": {
      "text/plain": [
       "99999999    1\n",
       "27322222    1\n",
       "12345678    3\n",
       "11111111    2\n",
       "10000000    1\n",
       "3890000     1\n",
       "1300000     1\n",
       "1234566     1\n",
       "999999      2\n",
       "999990      1\n",
       "Name: price, dtype: int64"
      ]
     },
     "execution_count": 79,
     "metadata": {},
     "output_type": "execute_result"
    }
   ],
   "source": [
    "autos['price'].value_counts().sort_index(ascending=False).head(10)"
   ]
  },
  {
   "cell_type": "code",
   "execution_count": 80,
   "metadata": {},
   "outputs": [],
   "source": [
    "# There are a number of listings with prices below $30, including about 1500 values at $0. There \n",
    "# are also a small number of listings with very high values, including 14 at around or over $1 million.\n",
    "\n",
    "# Given that eBay is an auction site, there could legitimately be items where the opening bid is \n",
    "# $1. We will keep the $1 items, but remove anything above $350,000, since it seems that prices \n",
    "# increase steadily to that number and then jump up to less realistic numbers."
   ]
  },
  {
   "cell_type": "markdown",
   "metadata": {},
   "source": [
    "# Address outliers"
   ]
  },
  {
   "cell_type": "code",
   "execution_count": 81,
   "metadata": {},
   "outputs": [
    {
     "data": {
      "text/plain": [
       "count    48565.000\n",
       "mean      5888.936\n",
       "std       9059.855\n",
       "min          1.000\n",
       "25%       1200.000\n",
       "50%       3000.000\n",
       "75%       7490.000\n",
       "max     350000.000\n",
       "Name: price, dtype: float64"
      ]
     },
     "execution_count": 81,
     "metadata": {},
     "output_type": "execute_result"
    }
   ],
   "source": [
    "autos = autos[autos[\"price\"].between(1,351000)]\n",
    "autos[\"price\"].describe()"
   ]
  },
  {
   "cell_type": "markdown",
   "metadata": {},
   "source": [
    "# Address date columns"
   ]
  },
  {
   "cell_type": "markdown",
   "metadata": {},
   "source": [
    "Columns with date information:\n",
    "date_crawled\n",
    "registration_month\n",
    "registration_year\n",
    "ad_created\n",
    "last_seen\n",
    "\n",
    "These are a combination of dates that were crawled, and dates with meta-information from the crawler. The non-registration dates are stored as strings.\n",
    "\n",
    "We'll explore each of these columns to learn more about the listings."
   ]
  },
  {
   "cell_type": "code",
   "execution_count": 82,
   "metadata": {},
   "outputs": [
    {
     "data": {
      "text/plain": [
       "2016-03-05   0.025\n",
       "2016-03-06   0.014\n",
       "2016-03-07   0.036\n",
       "2016-03-08   0.033\n",
       "2016-03-09   0.033\n",
       "2016-03-10   0.032\n",
       "2016-03-11   0.033\n",
       "2016-03-12   0.037\n",
       "2016-03-13   0.016\n",
       "2016-03-14   0.037\n",
       "2016-03-15   0.034\n",
       "2016-03-16   0.030\n",
       "2016-03-17   0.032\n",
       "2016-03-18   0.013\n",
       "2016-03-19   0.035\n",
       "2016-03-20   0.038\n",
       "2016-03-21   0.037\n",
       "2016-03-22   0.033\n",
       "2016-03-23   0.032\n",
       "2016-03-24   0.029\n",
       "2016-03-25   0.032\n",
       "2016-03-26   0.032\n",
       "2016-03-27   0.031\n",
       "2016-03-28   0.035\n",
       "2016-03-29   0.034\n",
       "2016-03-30   0.034\n",
       "2016-03-31   0.032\n",
       "2016-04-01   0.034\n",
       "2016-04-02   0.035\n",
       "2016-04-03   0.039\n",
       "2016-04-04   0.036\n",
       "2016-04-05   0.013\n",
       "2016-04-06   0.003\n",
       "2016-04-07   0.001\n",
       "Name: date_crawled, dtype: float64"
      ]
     },
     "execution_count": 82,
     "metadata": {},
     "output_type": "execute_result"
    }
   ],
   "source": [
    "autos['date_crawled'].str[:10].value_counts(normalize=True, dropna=False).sort_index() "
   ]
  },
  {
   "cell_type": "markdown",
   "metadata": {},
   "source": [
    "Looks like the site was crawled daily over roughly a one month period March to April 2016. The distribution of listings crawled on each day is roughly uniform."
   ]
  },
  {
   "cell_type": "code",
   "execution_count": 83,
   "metadata": {},
   "outputs": [
    {
     "data": {
      "text/plain": [
       "2000    3156\n",
       "2005    2936\n",
       "1999    2897\n",
       "2004    2703\n",
       "2003    2699\n",
       "2006    2670\n",
       "2001    2636\n",
       "2002    2486\n",
       "1998    2363\n",
       "2007    2277\n",
       "2008    2215\n",
       "2009    2085\n",
       "1997    1951\n",
       "2011    1623\n",
       "2010    1589\n",
       "2017    1392\n",
       "1996    1373\n",
       "2012    1310\n",
       "1995    1227\n",
       "2016    1220\n",
       "2013     803\n",
       "2014     663\n",
       "1994     629\n",
       "2018     470\n",
       "1993     425\n",
       "2015     392\n",
       "1992     370\n",
       "1990     347\n",
       "1991     339\n",
       "1989     174\n",
       "        ... \n",
       "1950       3\n",
       "9999       3\n",
       "1800       2\n",
       "1951       2\n",
       "1941       2\n",
       "1934       2\n",
       "1954       2\n",
       "1957       2\n",
       "1955       2\n",
       "2019       2\n",
       "1001       1\n",
       "1939       1\n",
       "4500       1\n",
       "1953       1\n",
       "1111       1\n",
       "4800       1\n",
       "5911       1\n",
       "1943       1\n",
       "1938       1\n",
       "1929       1\n",
       "2800       1\n",
       "6200       1\n",
       "4100       1\n",
       "8888       1\n",
       "1927       1\n",
       "9000       1\n",
       "1948       1\n",
       "1000       1\n",
       "1931       1\n",
       "1952       1\n",
       "Name: registration_year, Length: 95, dtype: int64"
      ]
     },
     "execution_count": 83,
     "metadata": {},
     "output_type": "execute_result"
    }
   ],
   "source": [
    "autos['registration_year'].value_counts()"
   ]
  },
  {
   "cell_type": "code",
   "execution_count": 84,
   "metadata": {},
   "outputs": [
    {
     "data": {
      "text/plain": [
       "count   48565.000\n",
       "mean     2004.755\n",
       "std        88.644\n",
       "min      1000.000\n",
       "25%      1999.000\n",
       "50%      2004.000\n",
       "75%      2008.000\n",
       "max      9999.000\n",
       "Name: registration_year, dtype: float64"
      ]
     },
     "execution_count": 84,
     "metadata": {},
     "output_type": "execute_result"
    }
   ],
   "source": [
    "autos['registration_year'].describe()"
   ]
  },
  {
   "cell_type": "markdown",
   "metadata": {},
   "source": [
    "registration_year has anomalies.\n",
    "\n",
    "The year that the car was first registered will likely indicate the age of the car. Looking at this column, we note some odd values. The minimum value is 1000, long before cars were invented and the maximum is 9999, many years into the future"
   ]
  },
  {
   "cell_type": "code",
   "execution_count": 85,
   "metadata": {},
   "outputs": [
    {
     "data": {
      "text/plain": [
       "2016-03-05   0.001\n",
       "2016-03-06   0.004\n",
       "2016-03-07   0.005\n",
       "2016-03-08   0.007\n",
       "2016-03-09   0.010\n",
       "2016-03-10   0.011\n",
       "2016-03-11   0.012\n",
       "2016-03-12   0.024\n",
       "2016-03-13   0.009\n",
       "2016-03-14   0.013\n",
       "2016-03-15   0.016\n",
       "2016-03-16   0.016\n",
       "2016-03-17   0.028\n",
       "2016-03-18   0.007\n",
       "2016-03-19   0.016\n",
       "2016-03-20   0.021\n",
       "2016-03-21   0.021\n",
       "2016-03-22   0.021\n",
       "2016-03-23   0.019\n",
       "2016-03-24   0.020\n",
       "2016-03-25   0.019\n",
       "2016-03-26   0.017\n",
       "2016-03-27   0.016\n",
       "2016-03-28   0.021\n",
       "2016-03-29   0.022\n",
       "2016-03-30   0.025\n",
       "2016-03-31   0.024\n",
       "2016-04-01   0.023\n",
       "2016-04-02   0.025\n",
       "2016-04-03   0.025\n",
       "2016-04-04   0.024\n",
       "2016-04-05   0.125\n",
       "2016-04-06   0.222\n",
       "2016-04-07   0.132\n",
       "Name: last_seen, dtype: float64"
      ]
     },
     "execution_count": 85,
     "metadata": {},
     "output_type": "execute_result"
    }
   ],
   "source": [
    "# use parantheses for readability, when chaining multiple functions \n",
    "(autos[\"last_seen\"]\n",
    "        .str[:10]\n",
    "        .value_counts(normalize=True, dropna=False)\n",
    "        .sort_index()\n",
    "        )"
   ]
  },
  {
   "cell_type": "markdown",
   "metadata": {},
   "source": [
    "The crawler recorded the date it last saw any listing, which allows us to determine on what day a listing was removed, presumably because the car was sold.\n",
    "\n",
    "The last three days contain a disproportionate amount of 'last seen' values. Given that these are 6-10x the values from the previous days, it's unlikely that there was a massive spike in sales, and more likely that these values are to do with the crawling period ending and don't indicate car sales."
   ]
  },
  {
   "cell_type": "code",
   "execution_count": 86,
   "metadata": {},
   "outputs": [
    {
     "name": "stdout",
     "output_type": "stream",
     "text": [
      "(76,)\n"
     ]
    },
    {
     "data": {
      "text/plain": [
       "2015-06-11   0.000\n",
       "2015-08-10   0.000\n",
       "2015-09-09   0.000\n",
       "2015-11-10   0.000\n",
       "2015-12-05   0.000\n",
       "2015-12-30   0.000\n",
       "2016-01-03   0.000\n",
       "2016-01-07   0.000\n",
       "2016-01-10   0.000\n",
       "2016-01-13   0.000\n",
       "2016-01-14   0.000\n",
       "2016-01-16   0.000\n",
       "2016-01-22   0.000\n",
       "2016-01-27   0.000\n",
       "2016-01-29   0.000\n",
       "2016-02-01   0.000\n",
       "2016-02-02   0.000\n",
       "2016-02-05   0.000\n",
       "2016-02-07   0.000\n",
       "2016-02-08   0.000\n",
       "2016-02-09   0.000\n",
       "2016-02-11   0.000\n",
       "2016-02-12   0.000\n",
       "2016-02-14   0.000\n",
       "2016-02-16   0.000\n",
       "2016-02-17   0.000\n",
       "2016-02-18   0.000\n",
       "2016-02-19   0.000\n",
       "2016-02-20   0.000\n",
       "2016-02-21   0.000\n",
       "              ... \n",
       "2016-03-09   0.033\n",
       "2016-03-10   0.032\n",
       "2016-03-11   0.033\n",
       "2016-03-12   0.037\n",
       "2016-03-13   0.017\n",
       "2016-03-14   0.035\n",
       "2016-03-15   0.034\n",
       "2016-03-16   0.030\n",
       "2016-03-17   0.031\n",
       "2016-03-18   0.014\n",
       "2016-03-19   0.034\n",
       "2016-03-20   0.038\n",
       "2016-03-21   0.038\n",
       "2016-03-22   0.033\n",
       "2016-03-23   0.032\n",
       "2016-03-24   0.029\n",
       "2016-03-25   0.032\n",
       "2016-03-26   0.032\n",
       "2016-03-27   0.031\n",
       "2016-03-28   0.035\n",
       "2016-03-29   0.034\n",
       "2016-03-30   0.034\n",
       "2016-03-31   0.032\n",
       "2016-04-01   0.034\n",
       "2016-04-02   0.035\n",
       "2016-04-03   0.039\n",
       "2016-04-04   0.037\n",
       "2016-04-05   0.012\n",
       "2016-04-06   0.003\n",
       "2016-04-07   0.001\n",
       "Name: ad_created, Length: 76, dtype: float64"
      ]
     },
     "execution_count": 86,
     "metadata": {},
     "output_type": "execute_result"
    }
   ],
   "source": [
    "print(autos[\"ad_created\"].str[:10].unique().shape)\n",
    "(autos[\"ad_created\"]\n",
    "        .str[:10]\n",
    "        .value_counts(normalize=True, dropna=False)\n",
    "        .sort_index()\n",
    "        )"
   ]
  },
  {
   "cell_type": "markdown",
   "metadata": {},
   "source": [
    "There are a large variety of ad created dates. Most fall within 1-2 months of the listing date, but a few are quite old, with the oldest at around 9 months."
   ]
  },
  {
   "cell_type": "markdown",
   "metadata": {},
   "source": [
    "One thing that stands out from the exploration we did in the last screen is that the registration_year column contains some odd values:\n",
    "\n",
    "The minimum value is 1000, before cars were invented\n",
    "The maximum value is 9999, many years into the future\n",
    "Because a car can't be first registered before the listing was seen, any vehicle with a registration year above 2016 is definitely inaccurate. Determining the earliest valid year is more difficult. Realistically, it could be somewhere in the first few decades of the 1900s.\n",
    "\n",
    "Let's count the number of listings with cars that fall outside the 1900 - 2016 interval and see if it's safe to remove those rows entirely, or if we need more custom logic."
   ]
  },
  {
   "cell_type": "markdown",
   "metadata": {},
   "source": [
    "# Addressing incorrect registration_year "
   ]
  },
  {
   "cell_type": "markdown",
   "metadata": {},
   "source": [
    "Decide which the highest and lowest acceptable values are for the registration_year column.\n",
    "Write a markdown cell explaining your decision and why.\n",
    "Remove the values outside those upper and lower bounds and calculate the distribution of the remaining values using Series.value_counts(normalize=True).\n",
    "Write a markdown cell explaining your observations."
   ]
  },
  {
   "cell_type": "code",
   "execution_count": 87,
   "metadata": {},
   "outputs": [
    {
     "data": {
      "text/plain": [
       "0.038793369710697002"
      ]
     },
     "execution_count": 87,
     "metadata": {},
     "output_type": "execute_result"
    }
   ],
   "source": [
    "#determine what percentage of our data has invalid values\n",
    "(~autos[\"registration_year\"].between(1900,2016)).sum() / autos.shape[0]"
   ]
  },
  {
   "cell_type": "code",
   "execution_count": 88,
   "metadata": {},
   "outputs": [
    {
     "data": {
      "text/plain": [
       "2000   0.068\n",
       "2005   0.063\n",
       "1999   0.062\n",
       "2004   0.058\n",
       "2003   0.058\n",
       "2006   0.057\n",
       "2001   0.056\n",
       "2002   0.053\n",
       "1998   0.051\n",
       "2007   0.049\n",
       "2008   0.047\n",
       "2009   0.045\n",
       "1997   0.042\n",
       "2011   0.035\n",
       "2010   0.034\n",
       "1996   0.029\n",
       "2012   0.028\n",
       "1995   0.026\n",
       "2016   0.026\n",
       "2013   0.017\n",
       "2014   0.014\n",
       "1994   0.013\n",
       "1993   0.009\n",
       "2015   0.008\n",
       "1992   0.008\n",
       "1990   0.007\n",
       "1991   0.007\n",
       "1989   0.004\n",
       "1988   0.003\n",
       "1985   0.002\n",
       "        ... \n",
       "1966   0.000\n",
       "1976   0.000\n",
       "1969   0.000\n",
       "1975   0.000\n",
       "1965   0.000\n",
       "1964   0.000\n",
       "1963   0.000\n",
       "1959   0.000\n",
       "1961   0.000\n",
       "1910   0.000\n",
       "1956   0.000\n",
       "1958   0.000\n",
       "1937   0.000\n",
       "1962   0.000\n",
       "1950   0.000\n",
       "1954   0.000\n",
       "1941   0.000\n",
       "1951   0.000\n",
       "1934   0.000\n",
       "1957   0.000\n",
       "1955   0.000\n",
       "1953   0.000\n",
       "1943   0.000\n",
       "1929   0.000\n",
       "1939   0.000\n",
       "1938   0.000\n",
       "1948   0.000\n",
       "1927   0.000\n",
       "1931   0.000\n",
       "1952   0.000\n",
       "Name: registration_year, Length: 78, dtype: float64"
      ]
     },
     "execution_count": 88,
     "metadata": {},
     "output_type": "execute_result"
    }
   ],
   "source": [
    "# Given that this is less than 4% of our data, we will remove these rows.\n",
    "autos = autos[autos['registration_year'].between(1900,2016)]\n",
    "autos['registration_year'].value_counts(normalize=True)\n",
    "# It appears that most of the vehicles were first registered in the past 20 years."
   ]
  },
  {
   "cell_type": "markdown",
   "metadata": {},
   "source": [
    "# Exploring price by brand"
   ]
  },
  {
   "cell_type": "markdown",
   "metadata": {},
   "source": [
    "When working with data on cars, it's natural to explore variations across different car brands. We can use aggregation to understand the brand column.\n",
    "\n",
    "* Identify the unique values we want to aggregate by\n",
    "* Create an empty dictionary to store our aggregate data\n",
    "* Loop over the unique values, and for each:\n",
    "    * Subset the dataframe by the unique values\n",
    "    * Calculate the mean of whichever column we're interested in\n",
    "    * Assign the val/mean to the dict as k/v."
   ]
  },
  {
   "cell_type": "markdown",
   "metadata": {},
   "source": [
    "Explore the unique values in the brand column, and decide on which brands you want to aggregate by.\n",
    "* You might want to select the top 20, or you might want to select those that have over a certain percentage of the total values (e.g. > 5%).\n",
    "* Remember that Series.value_counts() produces a series with index labels, so you can use Series.index attribute to access the labels, should you wish.\n",
    "Write a short paragraph describing the brand data, and explaining which brands you've chosen to aggregate on.\n",
    "* Create an empty dictionary to hold your aggregate data.\n",
    "Loop over your selected brands, and assign the mean price to the dictionary, with the brand name as the key.\n",
    "* Print your dictionary of aggregate data, and write a paragraph analyzing the results."
   ]
  },
  {
   "cell_type": "code",
   "execution_count": 89,
   "metadata": {},
   "outputs": [
    {
     "data": {
      "text/plain": [
       "volkswagen        9862\n",
       "bmw               5137\n",
       "opel              5022\n",
       "mercedes_benz     4503\n",
       "audi              4041\n",
       "ford              3263\n",
       "renault           2201\n",
       "peugeot           1393\n",
       "fiat              1197\n",
       "seat               853\n",
       "skoda              766\n",
       "nissan             713\n",
       "mazda              709\n",
       "smart              661\n",
       "citroen            654\n",
       "toyota             593\n",
       "hyundai            468\n",
       "sonstige_autos     458\n",
       "volvo              427\n",
       "mini               409\n",
       "Name: brand, dtype: int64"
      ]
     },
     "execution_count": 89,
     "metadata": {},
     "output_type": "execute_result"
    }
   ],
   "source": [
    "autos['brand'].value_counts().head(20)"
   ]
  },
  {
   "cell_type": "code",
   "execution_count": 90,
   "metadata": {},
   "outputs": [
    {
     "data": {
      "text/plain": [
       "volkswagen         True\n",
       "bmw                True\n",
       "opel               True\n",
       "mercedes_benz      True\n",
       "audi               True\n",
       "ford               True\n",
       "renault           False\n",
       "peugeot           False\n",
       "fiat              False\n",
       "seat              False\n",
       "skoda             False\n",
       "nissan            False\n",
       "mazda             False\n",
       "smart             False\n",
       "citroen           False\n",
       "toyota            False\n",
       "hyundai           False\n",
       "sonstige_autos    False\n",
       "volvo             False\n",
       "mini              False\n",
       "mitsubishi        False\n",
       "honda             False\n",
       "kia               False\n",
       "alfa_romeo        False\n",
       "porsche           False\n",
       "suzuki            False\n",
       "chevrolet         False\n",
       "chrysler          False\n",
       "dacia             False\n",
       "daihatsu          False\n",
       "jeep              False\n",
       "subaru            False\n",
       "land_rover        False\n",
       "saab              False\n",
       "jaguar            False\n",
       "daewoo            False\n",
       "trabant           False\n",
       "rover             False\n",
       "lancia            False\n",
       "lada              False\n",
       "Name: brand, dtype: bool"
      ]
     },
     "execution_count": 90,
     "metadata": {},
     "output_type": "execute_result"
    }
   ],
   "source": [
    "autos['brand'].value_counts(normalize=True) > .05"
   ]
  },
  {
   "cell_type": "markdown",
   "metadata": {},
   "source": [
    "German manufacturers represent four out of the top five brands, almost 50% of the overall listings. Volkswagen is by far the most popular brand, with approximately double the cars for sale of the next two brands combined.\n",
    "\n",
    "There are lots of brands that don't have a significant percentage of listings, so we will limit our analysis to brands representing more than 5% of total listings."
   ]
  },
  {
   "cell_type": "code",
   "execution_count": 91,
   "metadata": {},
   "outputs": [
    {
     "name": "stdout",
     "output_type": "stream",
     "text": [
      "Index(['volkswagen', 'bmw', 'opel', 'mercedes_benz', 'audi', 'ford'], dtype='object')\n"
     ]
    }
   ],
   "source": [
    "brand_counts = autos[\"brand\"].value_counts(normalize=True)\n",
    "common_brands = brand_counts[brand_counts > .05].index\n",
    "print(common_brands)"
   ]
  },
  {
   "cell_type": "code",
   "execution_count": 92,
   "metadata": {},
   "outputs": [
    {
     "data": {
      "text/plain": [
       "{'audi': 9336,\n",
       " 'mercedes_benz': 8628,\n",
       " 'bmw': 8332,\n",
       " 'volkswagen': 5402,\n",
       " 'ford': 3749,\n",
       " 'opel': 2975}"
      ]
     },
     "execution_count": 92,
     "metadata": {},
     "output_type": "execute_result"
    }
   ],
   "source": [
    "# Loop over the selected brands, and assign the mean price to the dictionary, with the brand name as the key.\n",
    "# Print your dictionary of aggregate data, and write a paragraph analyzing the results.\n",
    "top_brand_mean_price = {}\n",
    "for b in common_brands:\n",
    "    top_brand_mean_price[b] = int(autos['price'][autos['brand'] == b].mean())\n",
    "\n",
    "dict(sorted(top_brand_mean_price.items(), key=lambda x: x[1], reverse=True))"
   ]
  },
  {
   "cell_type": "markdown",
   "metadata": {},
   "source": [
    "Of the top 5 brands, there is a distinct price gap:\n",
    "\n",
    "Audi, BMW and Mercedes Benz are more expensive\n",
    "Ford and Opel are less expensive\n",
    "Volkswagen is in between - this may explain its popularity, it may be a 'best of 'both worlds' option."
   ]
  },
  {
   "cell_type": "markdown",
   "metadata": {},
   "source": [
    "# Exploring mileage by brand"
   ]
  },
  {
   "cell_type": "markdown",
   "metadata": {},
   "source": [
    "In the last screen, we aggregated across brands to understand mean price. We observed that in the top 5 brands, there's a distinct price gap.\n",
    "\n",
    "Audi, BMW and Mercedes Benz are more expensive\n",
    "Ford and Opel are less expensive\n",
    "Volkswagen is in between\n",
    "For the top 5 brands, let's use aggregation to understand the average mileage for those cars and if there's any visible link with mean price. While our natural instinct may be to display both aggregated series objects and visually compare them, this has a few limitations:\n",
    "\n",
    "it's difficult to compare more than two aggregate series objects if we want to extend to more columns\n",
    "we can't compare more than a few rows from each series object\n",
    "we can only sort by the index (brand name) of both series objects so we can easily make visual comparisons\n",
    "Instead, we can combine the data from both series objects into a single dataframe (with a shared index) and display the dataframe directly. \n",
    "\n",
    "* Identify the unique values we want to aggregate by\n",
    "* Create an empty dictionary to store our aggregate data\n",
    "* Loop over the unique values, and for each:\n",
    "    * Subset the dataframe by the unique values\n",
    "    * Calculate the mean of whichever column we're interested in\n",
    "    * Assign the val/mean to the dict as k/v."
   ]
  },
  {
   "cell_type": "markdown",
   "metadata": {},
   "source": [
    "Instructions\n",
    "\n",
    "Use the loop method from the last screen to calculate the mean mileage and mean price for each of the top brands, storing the results in a dictionary.\n",
    "Convert both dictionaries to series objects, using the series constructor.\n",
    "Create a dataframe from the first series object using the dataframe constructor.\n",
    "Assign the other series as a new column in this dataframe.\n",
    "Pretty print the dataframe, and write a paragraph analyzing the aggregate data."
   ]
  },
  {
   "cell_type": "code",
   "execution_count": 93,
   "metadata": {},
   "outputs": [
    {
     "data": {
      "text/plain": [
       "{'bmw': 132572,\n",
       " 'mercedes_benz': 130788,\n",
       " 'opel': 129310,\n",
       " 'audi': 129157,\n",
       " 'volkswagen': 128707,\n",
       " 'ford': 124266}"
      ]
     },
     "execution_count": 93,
     "metadata": {},
     "output_type": "execute_result"
    }
   ],
   "source": [
    "top_brand_mean_mileage = {}\n",
    "for b in common_brands:\n",
    "    top_brand_mean_mileage[b] = int(autos['odometer_km'][autos['brand'] == b].mean())\n",
    "\n",
    "dict(sorted(top_brand_mean_mileage.items(), key=lambda x: x[1], reverse=True))"
   ]
  },
  {
   "cell_type": "code",
   "execution_count": 94,
   "metadata": {},
   "outputs": [
    {
     "data": {
      "text/html": [
       "<div>\n",
       "<style scoped>\n",
       "    .dataframe tbody tr th:only-of-type {\n",
       "        vertical-align: middle;\n",
       "    }\n",
       "\n",
       "    .dataframe tbody tr th {\n",
       "        vertical-align: top;\n",
       "    }\n",
       "\n",
       "    .dataframe thead th {\n",
       "        text-align: right;\n",
       "    }\n",
       "</style>\n",
       "<table border=\"1\" class=\"dataframe\">\n",
       "  <thead>\n",
       "    <tr style=\"text-align: right;\">\n",
       "      <th></th>\n",
       "      <th>mean_mileage</th>\n",
       "      <th>mean_price</th>\n",
       "    </tr>\n",
       "  </thead>\n",
       "  <tbody>\n",
       "    <tr>\n",
       "      <th>bmw</th>\n",
       "      <td>132572</td>\n",
       "      <td>8332</td>\n",
       "    </tr>\n",
       "    <tr>\n",
       "      <th>mercedes_benz</th>\n",
       "      <td>130788</td>\n",
       "      <td>8628</td>\n",
       "    </tr>\n",
       "    <tr>\n",
       "      <th>opel</th>\n",
       "      <td>129310</td>\n",
       "      <td>2975</td>\n",
       "    </tr>\n",
       "    <tr>\n",
       "      <th>audi</th>\n",
       "      <td>129157</td>\n",
       "      <td>9336</td>\n",
       "    </tr>\n",
       "    <tr>\n",
       "      <th>volkswagen</th>\n",
       "      <td>128707</td>\n",
       "      <td>5402</td>\n",
       "    </tr>\n",
       "    <tr>\n",
       "      <th>ford</th>\n",
       "      <td>124266</td>\n",
       "      <td>3749</td>\n",
       "    </tr>\n",
       "  </tbody>\n",
       "</table>\n",
       "</div>"
      ],
      "text/plain": [
       "               mean_mileage  mean_price\n",
       "bmw                  132572        8332\n",
       "mercedes_benz        130788        8628\n",
       "opel                 129310        2975\n",
       "audi                 129157        9336\n",
       "volkswagen           128707        5402\n",
       "ford                 124266        3749"
      ]
     },
     "execution_count": 94,
     "metadata": {},
     "output_type": "execute_result"
    }
   ],
   "source": [
    "mean_mileages = pd.Series(top_brand_mean_mileage).sort_values(ascending=False)\n",
    "mean_prices = pd.Series(top_brand_mean_price).sort_values(ascending=False)\n",
    "\n",
    "brand_info = pd.DataFrame(mean_mileages,columns=['mean_mileage'])\n",
    "brand_info['mean_price'] = mean_prices\n",
    "brand_info"
   ]
  },
  {
   "cell_type": "markdown",
   "metadata": {},
   "source": [
    "The range of car mileages does not vary as much as the prices do by brand, instead all falling within 10% for the top brands. There is a slight trend to the more expensive vehicles having higher mileage, with the less expensive vehicles having lower mileage."
   ]
  },
  {
   "cell_type": "markdown",
   "metadata": {},
   "source": [
    "# Next Steps"
   ]
  },
  {
   "cell_type": "markdown",
   "metadata": {},
   "source": [
    "* Identify categorical data that uses german words, translate them and map the values to their english counterparts\n",
    "* Convert the dates to be uniform numeric data, so \"2016-03-21\" becomes the integer 20160321.\n",
    "* See if there are particular keywords in the name column that you can extract as new columns\n",
    "Analysis next steps\n",
    "* Find the most common brand/model combinations\n",
    "* Split the odometer_km into groups, and use aggregation to see if average prices follows any patterns based on the milage.\n",
    "* How much cheaper are cars with damage than their non-damaged counterparts?"
   ]
  },
  {
   "cell_type": "markdown",
   "metadata": {},
   "source": [
    "# How much cheaper are cars with damage?"
   ]
  },
  {
   "cell_type": "code",
   "execution_count": 95,
   "metadata": {},
   "outputs": [
    {
     "name": "stdout",
     "output_type": "stream",
     "text": [
      "Index(['date_crawled', 'name', 'price', 'ab_test', 'vehicle_type',\n",
      "       'registration_year', 'gearbox', 'power_ps', 'model', 'odometer_km',\n",
      "       'registration_month', 'fuel_type', 'brand', 'unrepaired_damage',\n",
      "       'ad_created', 'postal_code', 'last_seen'],\n",
      "      dtype='object')\n"
     ]
    },
    {
     "data": {
      "text/plain": [
       "nein    33834\n",
       "ja       4540\n",
       "Name: unrepaired_damage, dtype: int64"
      ]
     },
     "execution_count": 95,
     "metadata": {},
     "output_type": "execute_result"
    }
   ],
   "source": [
    "print(autos.columns)\n",
    "autos['unrepaired_damage'].value_counts()"
   ]
  },
  {
   "cell_type": "code",
   "execution_count": 96,
   "metadata": {},
   "outputs": [
    {
     "data": {
      "text/plain": [
       "count    46681.000\n",
       "mean      5977.717\n",
       "std       9177.909\n",
       "min          1.000\n",
       "25%       1250.000\n",
       "50%       3100.000\n",
       "75%       7500.000\n",
       "max     350000.000\n",
       "Name: price, dtype: float64"
      ]
     },
     "execution_count": 96,
     "metadata": {},
     "output_type": "execute_result"
    }
   ],
   "source": [
    "pd.set_option('display.float_format', lambda x: '%.3f' % x)\n",
    "autos['price'].describe()"
   ]
  },
  {
   "cell_type": "code",
   "execution_count": 98,
   "metadata": {},
   "outputs": [
    {
     "data": {
      "text/plain": [
       "<matplotlib.legend.Legend at 0x1dcbe79ab70>"
      ]
     },
     "execution_count": 98,
     "metadata": {},
     "output_type": "execute_result"
    },
    {
     "data": {
      "image/png": "[encoded data removed]",
      "text/plain": [
       "<Figure size 432x288 with 1 Axes>"
      ]
     },
     "metadata": {},
     "output_type": "display_data"
    }
   ],
   "source": [
    "import numpy as np\n",
    "import matplotlib.pyplot as plt\n",
    "%matplotlib inline\n",
    "nein = autos['price'][autos['unrepaired_damage'] == \"nein\"]\n",
    "price_range = np.linspace(autos['price'].min(),autos['price'].max(),len(nein))\n",
    "plt.plot(price_range,nein,color=\"g\",label=\"no damage\")\n",
    "ja = autos['price'][autos['unrepaired_damage'] == \"ja\"]\n",
    "price_range = np.linspace(autos['price'].min(),autos['price'].max(),len(ja))\n",
    "plt.plot(price_range,ja,color=\"orange\",label=\"damage\")\n",
    "plt.xlabel(\"price range\")\n",
    "plt.ylabel(\"price\")\n",
    "plt.legend()"
   ]
  }
 ],
 "metadata": {
  "kernelspec": {
   "display_name": "Python 3",
   "language": "python",
   "name": "python3"
  },
  "language_info": {
   "codemirror_mode": {
    "name": "ipython",
    "version": 3
   },
   "file_extension": ".py",
   "mimetype": "text/x-python",
   "name": "python",
   "nbconvert_exporter": "python",
   "pygments_lexer": "ipython3",
   "version": "3.6.5"
  }
 },
 "nbformat": 4,
 "nbformat_minor": 2
}
